{
 "cells": [
  {
   "cell_type": "markdown",
   "id": "559427b6-c6c4-4e98-9ab4-f321f8c4999d",
   "metadata": {
    "tags": []
   },
   "source": [
    "# Defining, compiling, and running stencils\n",
    "\n",
    "This notebook demonstrates how stencils can be defined, compiled and executed."
   ]
  },
  {
   "cell_type": "markdown",
   "id": "777c9dae-cb6f-49a8-963a-a85031d169af",
   "metadata": {},
   "source": [
    "## Configuration\n",
    "\n",
    "First, let's define the configuration such as the size of the computational domain as well as the number of halo points and the GT4Py backend we are using."
   ]
  },
  {
   "cell_type": "code",
   "execution_count": 3,
   "id": "5e09b7ff-ead1-40da-a79f-9929fd7c9e93",
   "metadata": {},
   "outputs": [],
   "source": [
    "nx = 20\n",
    "ny = 20\n",
    "nz = 79\n",
    "nhalo = 3\n",
    "backend = \"numpy\""
   ]
  },
  {
   "cell_type": "markdown",
   "id": "3acf8ab8-73b5-45f3-9605-6f5929ebdbb3",
   "metadata": {},
   "source": [
    "## Stencil definition using GT4Py\n",
    "\n",
    "Next, we'll define the actual stencil that we want to compile and run. We use the GT4Py domain-specific language (GTScripts) for this. For demonstration purposes, we start with a very simple stencil that simply sets a field to a constant value at every grid cell."
   ]
  },
  {
   "cell_type": "code",
   "execution_count": 4,
   "id": "c9d04aed-9513-447a-bae8-3c9719a60d9a",
   "metadata": {},
   "outputs": [],
   "source": [
    "from gt4py.cartesian.gtscript import PARALLEL, computation\n",
    "from ndsl.dsl.typing import FloatField\n",
    "\n",
    "def set_field_to_value_def(f: FloatField, value: float):\n",
    "    with computation(PARALLEL), interval(...):\n",
    "        f = value"
   ]
  },
  {
   "cell_type": "markdown",
   "id": "e3ff42c6-2fcb-4cbf-af4e-a41d5bbb0c95",
   "metadata": {
    "tags": []
   },
   "source": [
    "## Setup helpers for building stencils\n",
    "\n",
    "The `ndsl` package contains provides a helper class for compiling stencils. The helper class is called a stencil factory. In order to setup a stencil factory, several configuration objects have to be defined and passed in.\n",
    "\n",
    "- `DaceConfig`: configuration of DaCe backend\n",
    "- `CompilationConfig`: specification of how to compile\n",
    "- `StencilConfig`: wrapper to carry DaCe and compilation configuration\n",
    "- `GridIndexing`: helper class which provides indexing (e.g. compute domain and origin)\n",
    "- `StencilFactory`: helper class to build stencils from GT4Py stencil definitions"
   ]
  },
  {
   "cell_type": "code",
   "execution_count": 5,
   "id": "108a7b90-178d-461c-b313-cf0f1dcb4b94",
   "metadata": {
    "tags": []
   },
   "outputs": [],
   "source": [
    "from ndsl import DaceConfig, DaCeOrchestration, GridIndexing, StencilConfig, StencilFactory, CompilationConfig, RunMode\n",
    "\n",
    "dace_config = DaceConfig(\n",
    "    communicator=None, backend=backend, orchestration=DaCeOrchestration.Python\n",
    ")\n",
    "\n",
    "compilation_config = CompilationConfig(\n",
    "    backend=backend,\n",
    "    rebuild=True,\n",
    "    validate_args=True,\n",
    "    format_source=False,\n",
    "    device_sync=False,\n",
    "    run_mode=RunMode.BuildAndRun,\n",
    "    use_minimal_caching=False,\n",
    ")\n",
    "\n",
    "stencil_config = StencilConfig(\n",
    "    compare_to_numpy=False,\n",
    "    compilation_config=compilation_config,\n",
    "    dace_config=dace_config,\n",
    ")\n",
    "\n",
    "grid_indexing = GridIndexing(\n",
    "    domain=(nx, ny, nz),\n",
    "    n_halo=nhalo,\n",
    "    south_edge=True,\n",
    "    north_edge=True,\n",
    "    west_edge=True,\n",
    "    east_edge=True,\n",
    ")\n",
    "\n",
    "stencil_factory = StencilFactory(config=stencil_config, grid_indexing=grid_indexing)"
   ]
  },
  {
   "cell_type": "markdown",
   "id": "7d5797e0-b80a-4b27-be30-5d138deda105",
   "metadata": {},
   "source": [
    "## Wrap stencil into a Python class\n",
    "\n",
    "Using the stencil factory we can now wrap the compiled GT4Py stencil into a Python class. The init section is responsible for compiling the stencil, the call section will simply execute the compiled stencil with the arguments passed."
   ]
  },
  {
   "cell_type": "code",
   "execution_count": 6,
   "id": "51a5b99a-3cfc-437d-bf10-a1203499f28c",
   "metadata": {},
   "outputs": [],
   "source": [
    "from ndsl import StencilFactory\n",
    "from ndsl.dsl.typing import FloatField\n",
    "\n",
    "\n",
    "class SetFieldToValue:\n",
    "    def __init__(self, stencil_factory: StencilFactory):\n",
    "        grid_indexing = stencil_factory.grid_indexing\n",
    "        self._set_field_to_value_stencil = stencil_factory.from_origin_domain(\n",
    "            set_field_to_value_def,\n",
    "            origin=grid_indexing.origin_compute(),\n",
    "            domain=grid_indexing.domain_compute(),\n",
    "        )\n",
    "\n",
    "    def __call__(\n",
    "        self,\n",
    "        f: FloatField,\n",
    "        value: float,\n",
    "    ):\n",
    "        self._set_field_to_value_stencil(f, value)"
   ]
  },
  {
   "cell_type": "markdown",
   "id": "cb397fe7-9ae0-46c0-8056-d35cde629a4b",
   "metadata": {},
   "source": [
    "## Compiling and running the stencil\n",
    "\n",
    "To compile and run the stencil we first have to instanciate the wrapper class. This will compile the stencil and return a callable object. Next we have to define a GT4Py data storage (field). This could also be done using the `ndsl.quantity.Quantity` class, but here we use plain GT4Py data storages for simplicity. Finally, we can call the stencil and pass in the field and value."
   ]
  },
  {
   "cell_type": "code",
   "execution_count": 7,
   "id": "c27da0c5-bf57-4196-83be-65b32cfccbf9",
   "metadata": {},
   "outputs": [],
   "source": [
    "set_field_to_value = SetFieldToValue(stencil_factory)"
   ]
  },
  {
   "cell_type": "code",
   "execution_count": 8,
   "id": "b545d4e6-a98f-440f-ab46-be2f9c182c31",
   "metadata": {},
   "outputs": [],
   "source": [
    "import gt4py.storage as gt_storage\n",
    "\n",
    "field = gt_storage.zeros(\n",
    "    backend=backend,\n",
    "    dtype=float,\n",
    "    shape=(nx + 2 * nhalo, ny + 2 * nhalo, nz),\n",
    ")"
   ]
  },
  {
   "cell_type": "code",
   "execution_count": 9,
   "id": "e993525f-fe88-42e0-823a-9712539621a5",
   "metadata": {},
   "outputs": [],
   "source": [
    "value = 42.0\n",
    "set_field_to_value(field, value)"
   ]
  },
  {
   "cell_type": "code",
   "execution_count": 10,
   "id": "a8ddf9b5",
   "metadata": {},
   "outputs": [
    {
     "name": "stdout",
     "output_type": "stream",
     "text": [
      "Min and max values: 42.0 0.0\n"
     ]
    },
    {
     "data": {
      "image/png": "[encoded data removed]",
      "text/plain": [
       "<Figure size 640x480 with 2 Axes>"
      ]
     },
     "metadata": {},
     "output_type": "display_data"
    }
   ],
   "source": [
    "import matplotlib.pyplot as plt\n",
    "\n",
    "print(\"Min and max values:\", field.max(), field.min())\n",
    "\n",
    "fig = plt.figure()\n",
    "fig.patch.set_facecolor(\"white\")\n",
    "ax = fig.add_subplot(111)\n",
    "ax.set_facecolor(\".4\")\n",
    "\n",
    "f1 = ax.pcolormesh(field[:, :, 0])\n",
    "\n",
    "cbar = plt.colorbar(f1)\n",
    "ax.set_title(\"Field set to value %.1f\" % value)\n",
    "plt.show()"
   ]
  },
  {
   "cell_type": "markdown",
   "id": "6562a18e",
   "metadata": {},
   "source": [
    "## Building and Running Pre-defined Stencils for Tracer Advection\n",
    "\n",
    "In this portion, we build and run the stencils required for calculating tracer advection. This will include:\n",
    "- `FiniteVolumeFluxPrep`: calculates/updates Courant number and total mass flux fields based on input wind field.\n",
    "- `FiniteVolumeTransport`: calculates tracer fluxes for horizontal finite volume flux transport.\n",
    "- `TracerAdvection`: performs horizontal advection on tracers."
   ]
  },
  {
   "cell_type": "code",
   "execution_count": 11,
   "id": "a45c6f83",
   "metadata": {},
   "outputs": [
    {
     "name": "stdout",
     "output_type": "stream",
     "text": [
      "Starting 6 engines with <class 'ipyparallel.cluster.launcher.MPIEngineSetLauncher'>\n",
      "100%|███████████████████████████████████████████████████████| 6/6 [00:05<00:00,  1.09engine/s]\n",
      "%autopx enabled\n"
     ]
    }
   ],
   "source": [
    "import ipyparallel as ipp\n",
    "\n",
    "layout = (1, 1)\n",
    "ntiles = 6\n",
    "# spinup cluster of MPI-workers\n",
    "num_ranks = ntiles * layout[0] * layout[1]\n",
    "\n",
    "tracer_center = (0, 0)\n",
    "test_case = \"b\"\n",
    "timestep = 900.0\n",
    "\n",
    "cluster = ipp.Cluster(engines=\"mpi\", n=num_ranks).start_and_connect_sync()\n",
    "\n",
    "# broadcast configuration to all workers\n",
    "ar = cluster[:].push(\n",
    "    {\n",
    "        \"ntiles\": ntiles,\n",
    "        \"nx\": nx,\n",
    "        \"ny\": ny,\n",
    "        \"nz\": nz,\n",
    "        \"nhalo\": nhalo,\n",
    "        \"layout\": layout,\n",
    "        \"backend\": backend,\n",
    "        \"tracer_center\": tracer_center,\n",
    "        \"test_case\": test_case,\n",
    "        \"timestep\": timestep\n",
    "    }\n",
    ")\n",
    "\n",
    "# start executing cells on the workers in parallel from here on\n",
    "%autopx"
   ]
  },
  {
   "cell_type": "markdown",
   "id": "b5546849",
   "metadata": {},
   "source": [
    "### Getting initial state\n",
    "\n",
    "Before we can build and run stencils associated with tracer advection, we need to have the grid configuration and initial fields for u- and v- winds on the C grid. \n",
    "\n",
    "More details on these processes are described in `grid_generation.ipynb` and `initial_condition_definition.ipynb`, and here they are shortened by using helper functions inside `functions.py`."
   ]
  },
  {
   "cell_type": "code",
   "execution_count": 15,
   "id": "d35b55bb",
   "metadata": {},
   "outputs": [
    {
     "data": {
      "text/plain": [
       "[stderr:5] /pace/NDSL/ndsl/grid/gnomonic.py:681: RuntimeWarning: invalid value encountered in true_divide\n",
       "  np.sum(p * q, axis=-1)\n"
      ]
     },
     "metadata": {},
     "output_type": "display_data"
    },
    {
     "data": {
      "text/plain": [
       "[stderr:2] /pace/NDSL/ndsl/grid/gnomonic.py:681: RuntimeWarning: invalid value encountered in true_divide\n",
       "  np.sum(p * q, axis=-1)\n"
      ]
     },
     "metadata": {},
     "output_type": "display_data"
    }
   ],
   "source": [
    "import functions as func\n",
    "from mpi4py import MPI\n",
    "import importlib\n",
    "\n",
    "importlib.reload(func)\n",
    "\n",
    "mpi_comm = MPI.COMM_WORLD\n",
    "mpi_rank = mpi_comm.Get_rank()\n",
    "\n",
    "namelist_dict = func.store_namelist_variables(locals())\n",
    "dimensions = func.define_dimensions(namelist_dict)\n",
    "\n",
    "domain_configuration = func.configure_domain(mpi_comm, dimensions)\n",
    "\n",
    "initial_state = func.create_initial_state_advection(\n",
    "    domain_configuration[\"metric_terms\"], dimensions, tracer_center, test_case\n",
    ")"
   ]
  },
  {
   "cell_type": "markdown",
   "id": "9965c31a",
   "metadata": {},
   "source": [
    "For the stencils used in the tracer advection process, we will need some additional classes, such as `DampingCoefficients` and `GridIndexing`.\n",
    "\n",
    "If we want to run tracer advection in a single layer instead of extending it to 79 identical conditions, we want to create `GridData` with the `single_layer=True`."
   ]
  },
  {
   "cell_type": "code",
   "execution_count": 16,
   "id": "3c865c63",
   "metadata": {},
   "outputs": [],
   "source": [
    "from ndsl import DaceConfig, DaCeOrchestration, GridIndexing, StencilConfig, StencilFactory, CompilationConfig, RunMode\n",
    "from ndsl.grid import AngleGridData, ContravariantGridData, DampingCoefficients, GridData, HorizontalGridData, MetricTerms, VerticalGridData\n",
    "\n",
    "\n",
    "if nz == 1:\n",
    "    single_layer = True\n",
    "else:\n",
    "    single_layer = False\n",
    "\n",
    "if single_layer:\n",
    "    horizontal_grid_data = HorizontalGridData.new_from_metric_terms(domain_configuration[\"metric_terms\"])\n",
    "    vertical_grid_data = VerticalGridData(ptop=0, ks=0, ak=[10], bk=[0], p_ref=0)\n",
    "    contravariant_grid_data = ContravariantGridData.new_from_metric_terms(domain_configuration[\"metric_terms\"])\n",
    "    angle_grid_data = AngleGridData.new_from_metric_terms(domain_configuration[\"metric_terms\"])\n",
    "\n",
    "    grid_data = GridData(horizontal_grid_data, vertical_grid_data, contravariant_grid_data, angle_grid_data)\n",
    "    \n",
    "else:\n",
    "    grid_data = GridData.new_from_metric_terms(domain_configuration[\"metric_terms\"])\n",
    "\n",
    "\n",
    "damping_coefficients = DampingCoefficients.new_from_metric_terms(domain_configuration[\"metric_terms\"])\n",
    "\n",
    "dace_config = DaceConfig(\n",
    "    communicator=None, backend=backend, orchestration=DaCeOrchestration.Python\n",
    ")\n",
    "\n",
    "compilation_config = CompilationConfig(\n",
    "    backend=backend,\n",
    "    rebuild=True,\n",
    "    validate_args=True,\n",
    "    format_source=False,\n",
    "    device_sync=False,\n",
    "    run_mode=RunMode.BuildAndRun,\n",
    "    use_minimal_caching=False,\n",
    "    communicator=domain_configuration[\"communicator\"],\n",
    ")\n",
    "\n",
    "stencil_config = StencilConfig(\n",
    "    compare_to_numpy=False,\n",
    "    compilation_config=compilation_config,\n",
    "    dace_config=dace_config,\n",
    ")\n",
    "\n",
    "grid_indexing = GridIndexing.from_sizer_and_communicator(\n",
    "    sizer=domain_configuration[\"sizer\"], comm=domain_configuration[\"communicator\"]\n",
    ")\n",
    "\n",
    "stencil_factory = StencilFactory(config=stencil_config, grid_indexing=grid_indexing)\n"
   ]
  },
  {
   "cell_type": "markdown",
   "id": "6eea64a5",
   "metadata": {},
   "source": [
    "### 1. Finite Volume Flux Prep\n",
    "\n",
    "In order to run the stencil, we first need to build it (initialize an instance of the class). \n",
    "\n",
    "For building the `FiniteVolumeFluxPrep` stencil, we need `stencil_factory` and `grid_data` from the configuration dictionary. \n",
    "\n",
    "For running the stencil, we require the following inputs:\n",
    "- `uc (in)`: covariant x-velocity on the C-grid (stored in `initial_state` as `u_Cgrid`)\n",
    "- `vc (in)`: covariant y-velocity on the C-grid (stored in `initial_state` as `v_Cgrid`)\n",
    "- `crx (out)`: Courant number, x-direction\n",
    "- `cry (out)`: Courant number, y-direction\n",
    "- `x_area_flux (out)`: flux of area in x-direction, in units of m^2\n",
    "- `y_area_flux (out)`: flux of area in y-direction, in units of m^2\n",
    "- `uc_contra (out)`: contravariant x-velocity on C-grid\n",
    "- `vc_contra (out)`: contravariant y-velocity on C-grid\n",
    "- `dt (in)`: acoustic timestep in seconds\n",
    "\n",
    "We need to create empty storages or quantities to initialize the output variables, and their values get updated when we run the stencil.\n",
    "We plot the empty storage of `crx` on the first (zeroth) rank, run `FiniteVolumeFluxPrep`, then plot the updated storage for comparison."
   ]
  },
  {
   "cell_type": "code",
   "execution_count": 20,
   "id": "886c8a20",
   "metadata": {},
   "outputs": [
    {
     "name": "stdout",
     "output_type": "stream",
     "text": [
      "%px:  83%|██████████████████████████████████████████▌        | 5/6 [00:00<00:00, 48.19tasks/s]"
     ]
    },
    {
     "data": {
      "text/plain": [
       "[output:0]"
      ]
     },
     "metadata": {},
     "output_type": "display_data"
    },
    {
     "data": {
      "image/png": "[encoded data removed]",
      "text/plain": [
       "<Figure size 1000x400 with 4 Axes>"
      ]
     },
     "metadata": {
      "engine": 0
     },
     "output_type": "display_data"
    },
    {
     "name": "stdout",
     "output_type": "stream",
     "text": [
      "%px: 100%|███████████████████████████████████████████████████| 6/6 [00:00<00:00, 11.28tasks/s]\n"
     ]
    }
   ],
   "source": [
    "import copy as cp\n",
    "import matplotlib.pyplot as plt\n",
    "from pyFV3.stencils import FiniteVolumeFluxPrep\n",
    "from units_config import units\n",
    "\n",
    "fvf_prep = FiniteVolumeFluxPrep(\n",
    "    stencil_factory, grid_data, grid_type=0\n",
    ")\n",
    "\n",
    "crx = domain_configuration[\"quantity_factory\"].zeros(\n",
    "    dims=(\"x_interface\", \"y\", \"z\"), units=units[\"courant\"], dtype=\"float\"\n",
    ")\n",
    "cry = domain_configuration[\"quantity_factory\"].zeros(\n",
    "    dims=(\"x\", \"y_interface\", \"z\"), units=units[\"courant\"], dtype=\"float\"\n",
    ")\n",
    "\n",
    "x_area_flux = domain_configuration[\"quantity_factory\"].zeros(\n",
    "    dims=(\"x_interface\", \"y\", \"z\"), units=units[\"area\"], dtype=\"float\"\n",
    ")\n",
    "y_area_flux = domain_configuration[\"quantity_factory\"].zeros(\n",
    "    dims=(\"x\", \"y_interface\", \"z\"), units=units[\"area\"], dtype=\"float\"\n",
    ")\n",
    "\n",
    "uc_contra = domain_configuration[\"quantity_factory\"].zeros(\n",
    "    dims=(\"x_interface\", \"y\", \"z\"), units=units[\"wind\"], dtype=\"float\"\n",
    ")\n",
    "vc_contra = domain_configuration[\"quantity_factory\"].zeros(\n",
    "    dims=(\"x\", \"y_interface\", \"z\"), units=units[\"wind\"], dtype=\"float\"\n",
    ")\n",
    "\n",
    "crx_before = cp.deepcopy(crx)\n",
    "\n",
    "fvf_prep(\n",
    "    initial_state[\"u_cgrid\"],\n",
    "    initial_state[\"v_cgrid\"],\n",
    "    crx,\n",
    "    cry,\n",
    "    x_area_flux,\n",
    "    y_area_flux,\n",
    "    uc_contra,\n",
    "    vc_contra,\n",
    "    timestep,\n",
    ")\n",
    "\n",
    "if mpi_rank == 0:\n",
    "    fig = plt.figure(figsize=(10, 4))\n",
    "    fig.patch.set_facecolor(\"white\")\n",
    "    ax_before = fig.add_subplot(121)\n",
    "    ax_after = fig.add_subplot(122)\n",
    "\n",
    "    f1 = ax_before.pcolormesh(\n",
    "        crx_before.data[:, :, 0], vmin=-0, vmax=0.1, cmap=\"YlOrRd\"\n",
    "    )\n",
    "    plt.colorbar(f1, ax=ax_before)\n",
    "    f2 = ax_after.pcolormesh(crx.data[:, :, 0], vmin=-0, vmax=0.1, cmap=\"YlOrRd\")\n",
    "    plt.colorbar(f2, ax=ax_after)\n",
    "\n",
    "    ax_before.set_title(\"crx before FiniteVolumeFluxPrep call\")\n",
    "    ax_after.set_title(\"crx after FiniteVolumeFluxPrep call\")\n",
    "    plt.show()"
   ]
  },
  {
   "cell_type": "markdown",
   "id": "aadc97e9",
   "metadata": {},
   "source": [
    "Since our layer have thickness of delp Pa, we can use that information and the `x_area_flux` and `y_area_flux` variables provided by `FiniteVolumeFluxPrep` to calculate mass fluxes that are required as input to `TracerAdvection`.\n",
    "\n",
    "We are assuming that density is 1 (kg /m3)."
   ]
  },
  {
   "cell_type": "code",
   "execution_count": 21,
   "id": "4869723d",
   "metadata": {},
   "outputs": [],
   "source": [
    "mfxd = domain_configuration[\"quantity_factory\"].zeros(\n",
    "    dims=(\"x_interface\", \"y\", \"z\"), units=units[\"mass\"], dtype=\"float\"\n",
    ")\n",
    "mfyd = domain_configuration[\"quantity_factory\"].zeros(\n",
    "    dims=(\"x\", \"y_interface\", \"z\"), units=units[\"mass\"], dtype=\"float\"\n",
    ")\n",
    "\n",
    "density = 1.0\n",
    "\n",
    "mfxd.data[:] = x_area_flux.data[:] * initial_state[\"delp\"].data[:] * density\n",
    "mfyd.data[:] = y_area_flux.data[:] * initial_state[\"delp\"].data[:] * density\n"
   ]
  },
  {
   "cell_type": "markdown",
   "id": "8cbf898b",
   "metadata": {},
   "source": [
    "### 2. Tracer Advection and its Inputs\n",
    "\n",
    "In order to build the  `TracerAdvection` stencil, it needs an input of a different stencil, `FiniteVolumeTransport`. \n",
    "\n",
    "For building the `FiniteVolumeTransport` stencil, we need `stencil_factory`, `grid_data`, and `damping_coefficients` from the configuration dictionary. We do not actually need to run it, as it get run within `TracerAdvection`, but if we did, we would get output tracer mass fluxes. \n",
    "\n",
    "For building `TracerAdvection`, we need `stencil_factory`, the pre-built `FiniteVolumeTransport` stencil, `grid_data`, and the cubed-sphere communicator stored under configuration as `communicator`. We also need a dictionary that includes all the tracers we want to follow at their initial state.\n",
    "\n",
    "<!-- For running the stencul, we require the following inputs:\n",
    "- `uc (in)`: covariant x-velocity on the C-grid (stored in `initial_state` as `u_Cgrid`)\n",
    "- `vc (in)`: covariant y-velocity on the C-grid (stored in `initial_state` as `v_Cgrid`)\n",
    "- `crx (out)`: Courant number, x-direction\n",
    "- `cry (out)`: Courant number, y-direction\n",
    "- `x_area_flux (out)`: flux of area in x-direction, in units of m^2\n",
    "- `y_area_flux (out)`: flux of area in y-direction, in units of m^2\n",
    "- `uc_contra (out)`: contravariant x-velocity on C-grid\n",
    "- `vc_contra (out)`: contravariant y-velocity on C-grid\n",
    "- `dt (in)`: acoustic timestep in seconds\n",
    "\n",
    "We need to create empty storages or quantities to initialize the output variables, and their values get updated when we run the stencil.\n",
    "We plot the empty storage of `crx` on the first (zeroth) rank, run `FiniteVolumeFluxPrep`, then plot the updated storage for comparison. -->"
   ]
  },
  {
   "cell_type": "code",
   "execution_count": 23,
   "id": "4446b419",
   "metadata": {},
   "outputs": [
    {
     "name": "stdout",
     "output_type": "stream",
     "text": [
      "%px: 100%|███████████████████████████████████████████████████| 6/6 [00:20<00:00,  3.38s/tasks]\n"
     ]
    }
   ],
   "source": [
    "from pyFV3.stencils import FiniteVolumeTransport, TracerAdvection\n",
    "\n",
    "grid_type = 0  # cubed-sphere\n",
    "hord = 6  # horizontal diffusion order\n",
    "\n",
    "tracers = {\"tracer\": initial_state[\"tracer\"]}\n",
    "\n",
    "fvtp_2d = FiniteVolumeTransport(\n",
    "    stencil_factory,\n",
    "    domain_configuration[\"quantity_factory\"],\n",
    "    grid_data,\n",
    "    damping_coefficients,\n",
    "    grid_type,\n",
    "    hord,\n",
    ")\n",
    "\n",
    "tracer_advection = TracerAdvection(\n",
    "    stencil_factory,\n",
    "    domain_configuration[\"quantity_factory\"],\n",
    "    fvtp_2d,\n",
    "    grid_data,\n",
    "    domain_configuration[\"communicator\"],\n",
    "    tracers,\n",
    ")"
   ]
  },
  {
   "cell_type": "markdown",
   "id": "de2681d7",
   "metadata": {},
   "source": [
    "To run a single step of `TracerAdvection`, we need to provide it the following inputs:\n",
    "- `tracers`: a dictionary of all tracers we want to advect\n",
    "- `delp`: pressure thickness of layers\n",
    "- `mfxd`: mass flux in the x-direction\n",
    "- `mfyd`: mass flux in the y-direction\n",
    "- `crx`: Courant number in the x-direction\n",
    "- `cry`: Courant number in the y-direction\n",
    "- `timestep`: the timestep that is applied. \n",
    "\n",
    "Within `TracerAdvection`, the time step is split into 3 equal sub-steps, and all fields are divided by three, then advection is calculated for each of the substeps. \n",
    "\n",
    "All fields but `delp` are updated. Mass fluxes and Courant numbers are divided by 3 and then returned. So if we want to continue advecting with the initial wind field, we actually need to re-set those fields to initial conditions after each step."
   ]
  },
  {
   "cell_type": "code",
   "execution_count": 24,
   "id": "8043021f",
   "metadata": {
    "jupyter": {
     "outputs_hidden": true
    },
    "tags": []
   },
   "outputs": [],
   "source": [
    "tracer_initial = cp.deepcopy(tracers)\n",
    "mfxd_initial = cp.deepcopy(mfxd)\n",
    "mfyd_initial = cp.deepcopy(mfyd)\n",
    "crx_initial = cp.deepcopy(crx)\n",
    "cry_initial = cp.deepcopy(cry)\n",
    "\n",
    "tracer_state = [tracer_initial[\"tracer\"]]\n",
    "\n",
    "nSteps = 10\n",
    "\n",
    "for step in range(nSteps):\n",
    "    tracer_advection(tracers, initial_state[\"delp\"], mfxd, mfyd, crx, cry)\n",
    "\n",
    "    tracer_state.append(tracers[\"tracer\"])\n",
    "\n",
    "    mfxd = cp.deepcopy(mfxd_initial)\n",
    "    mfyd = cp.deepcopy(mfyd_initial)\n",
    "    crx = cp.deepcopy(crx_initial)\n",
    "    cry = cp.deepcopy(cry_initial)"
   ]
  },
  {
   "cell_type": "code",
   "execution_count": 25,
   "id": "f1e2588c",
   "metadata": {},
   "outputs": [
    {
     "data": {
      "text/plain": [
       "[output:0]"
      ]
     },
     "metadata": {},
     "output_type": "display_data"
    },
    {
     "data": {
      "image/png": "[encoded data removed]",
      "text/plain": [
       "<Figure size 1600x400 with 6 Axes>"
      ]
     },
     "metadata": {
      "engine": 0
     },
     "output_type": "display_data"
    }
   ],
   "source": [
    "if mpi_rank == 0:\n",
    "    fig = plt.figure(figsize=(16, 4))\n",
    "    fig.patch.set_facecolor(\"white\")\n",
    "    ax_before = fig.add_subplot(131)\n",
    "    ax_after = fig.add_subplot(132)\n",
    "    ax_diff = fig.add_subplot(133)\n",
    "\n",
    "    f1 = ax_before.pcolormesh(\n",
    "        tracer_state[0].data[:, :, 0].T, vmin=-0, vmax=1, cmap=\"viridis\"\n",
    "    )\n",
    "    plt.colorbar(f1, ax=ax_before)\n",
    "    f2 = ax_after.pcolormesh(\n",
    "        tracer_state[-1].data[:, :, 0].T, vmin=-0, vmax=1, cmap=\"viridis\"\n",
    "    )\n",
    "    plt.colorbar(f2, ax=ax_after)\n",
    "    f3 = ax_diff.pcolormesh(\n",
    "        (tracer_state[-1].data[:, :, 0] - tracer_state[0].data[:, :, 0]).T,\n",
    "        vmin=-0.5,\n",
    "        vmax=0.5,\n",
    "        cmap=\"bwr\",\n",
    "    )\n",
    "    plt.colorbar(f3, ax=ax_diff)\n",
    "\n",
    "    ax_before.set_title(\"tracer concentration at t=0\")\n",
    "    ax_after.set_title(\"tracer concentration after %s steps\" % nSteps)\n",
    "    ax_diff.set_title(\"difference after %s steps\" % nSteps)\n",
    "    plt.show()"
   ]
  },
  {
   "cell_type": "markdown",
   "id": "d41c4b7b",
   "metadata": {},
   "source": [
    "## Recreating this with functions.py\n",
    "\n",
    "You can reproduce the above steps in a more succinct manner by using the following syntax.\n",
    "\n",
    "In this case, we are using 79 layers, and things are not as fast as they could be - the same calculation is repeated at every vertical level."
   ]
  },
  {
   "cell_type": "code",
   "execution_count": 26,
   "id": "5d38b817",
   "metadata": {
    "jupyter": {
     "outputs_hidden": true
    },
    "tags": []
   },
   "outputs": [
    {
     "name": "stderr",
     "output_type": "stream",
     "text": [
      "[1:execute]\n",
      "\u001b[0;31m---------------------------------------------------------------------------\u001b[0m\n",
      "\u001b[0;31mTypeError\u001b[0m                                 Traceback (most recent call last)\n",
      "Cell \u001b[0;32mIn [15], line 23\u001b[0m\n",
      "\u001b[1;32m     20\u001b[0m stencil_configuration \u001b[38;5;241m=\u001b[39m func\u001b[38;5;241m.\u001b[39mconfigure_stencil(domain_configuration, backend\u001b[38;5;241m=\u001b[39mbackend)\n",
      "\u001b[1;32m     21\u001b[0m stencil_configuration[\u001b[38;5;124m\"\u001b[39m\u001b[38;5;124mquantity_factory\u001b[39m\u001b[38;5;124m\"\u001b[39m] \u001b[38;5;241m=\u001b[39m domain_configuration[\u001b[38;5;124m\"\u001b[39m\u001b[38;5;124mquantity_factory\u001b[39m\u001b[38;5;124m\"\u001b[39m]\n",
      "\u001b[0;32m---> 23\u001b[0m tracer_advection_data, tracer_advection \u001b[38;5;241m=\u001b[39m \u001b[43mfunc\u001b[49m\u001b[38;5;241;43m.\u001b[39;49m\u001b[43mprepare_everything_for_advection\u001b[49m\u001b[43m(\u001b[49m\n",
      "\u001b[1;32m     24\u001b[0m \u001b[43m    \u001b[49m\u001b[43mstencil_configuration\u001b[49m\u001b[43m,\u001b[49m\u001b[43m \u001b[49m\u001b[43minitial_state\u001b[49m\u001b[43m,\u001b[49m\u001b[43m \u001b[49m\u001b[43mdimensions\u001b[49m\u001b[43m,\u001b[49m\u001b[43m \u001b[49m\u001b[43mtimestep\u001b[49m\n",
      "\u001b[1;32m     25\u001b[0m \u001b[43m)\u001b[49m\n",
      "\u001b[1;32m     27\u001b[0m tracer_advection_data_initial \u001b[38;5;241m=\u001b[39m cp\u001b[38;5;241m.\u001b[39mdeepcopy(tracer_advection_data)\n",
      "\u001b[1;32m     29\u001b[0m tracer_state \u001b[38;5;241m=\u001b[39m [cp\u001b[38;5;241m.\u001b[39mdeepcopy(tracer_advection_data_initial[\u001b[38;5;124m\"\u001b[39m\u001b[38;5;124mtracers\u001b[39m\u001b[38;5;124m\"\u001b[39m][\u001b[38;5;124m\"\u001b[39m\u001b[38;5;124mtracer\u001b[39m\u001b[38;5;124m\"\u001b[39m])]\n",
      "\n",
      "File \u001b[0;32m/pace/examples/notebooks/functions.py:987\u001b[0m, in \u001b[0;36mprepare_everything_for_advection\u001b[0;34m(stencil_configuration, initial_state, dimensions, timestep)\u001b[0m\n",
      "\u001b[1;32m    962\u001b[0m \u001b[38;5;124;03m\"\"\"\u001b[39;00m\n",
      "\u001b[1;32m    963\u001b[0m \u001b[38;5;124;03mUse: tracer_advection_data, tracer_advection =\u001b[39;00m\n",
      "\u001b[1;32m    964\u001b[0m \u001b[38;5;124;03m    prepare_everything_for_advection(stencil_configuration, initial_state,\u001b[39;00m\n",
      "\u001b[0;32m   (...)\u001b[0m\n",
      "\u001b[1;32m    982\u001b[0m \n",
      "\u001b[1;32m    983\u001b[0m \u001b[38;5;124;03m\"\"\"\u001b[39;00m\n",
      "\u001b[1;32m    985\u001b[0m tracers \u001b[38;5;241m=\u001b[39m {\u001b[38;5;124m\"\u001b[39m\u001b[38;5;124mtracer\u001b[39m\u001b[38;5;124m\"\u001b[39m: initial_state[\u001b[38;5;124m\"\u001b[39m\u001b[38;5;124mtracer\u001b[39m\u001b[38;5;124m\"\u001b[39m]}\n",
      "\u001b[0;32m--> 987\u001b[0m flux_prep \u001b[38;5;241m=\u001b[39m \u001b[43mrun_finite_volume_fluxprep\u001b[49m\u001b[43m(\u001b[49m\n",
      "\u001b[1;32m    988\u001b[0m \u001b[43m    \u001b[49m\u001b[43mstencil_configuration\u001b[49m\u001b[43m,\u001b[49m\n",
      "\u001b[1;32m    989\u001b[0m \u001b[43m    \u001b[49m\u001b[43minitial_state\u001b[49m\u001b[43m,\u001b[49m\n",
      "\u001b[1;32m    990\u001b[0m \u001b[43m    \u001b[49m\u001b[43mdimensions\u001b[49m\u001b[43m,\u001b[49m\n",
      "\u001b[1;32m    991\u001b[0m \u001b[43m    \u001b[49m\u001b[43mtimestep\u001b[49m\u001b[43m,\u001b[49m\n",
      "\u001b[1;32m    992\u001b[0m \u001b[43m\u001b[49m\u001b[43m)\u001b[49m\n",
      "\u001b[1;32m    994\u001b[0m tracer_advection \u001b[38;5;241m=\u001b[39m build_tracer_advection(stencil_configuration, tracers)\n",
      "\u001b[1;32m    996\u001b[0m tracer_advection_data \u001b[38;5;241m=\u001b[39m {\n",
      "\u001b[1;32m    997\u001b[0m     \u001b[38;5;124m\"\u001b[39m\u001b[38;5;124mtracers\u001b[39m\u001b[38;5;124m\"\u001b[39m: tracers,\n",
      "\u001b[1;32m    998\u001b[0m     \u001b[38;5;124m\"\u001b[39m\u001b[38;5;124mdelp\u001b[39m\u001b[38;5;124m\"\u001b[39m: initial_state[\u001b[38;5;124m\"\u001b[39m\u001b[38;5;124mdelp\u001b[39m\u001b[38;5;124m\"\u001b[39m],\n",
      "\u001b[0;32m   (...)\u001b[0m\n",
      "\u001b[1;32m   1002\u001b[0m     \u001b[38;5;124m\"\u001b[39m\u001b[38;5;124mcry\u001b[39m\u001b[38;5;124m\"\u001b[39m: flux_prep[\u001b[38;5;124m\"\u001b[39m\u001b[38;5;124mcry\u001b[39m\u001b[38;5;124m\"\u001b[39m],\n",
      "\u001b[1;32m   1003\u001b[0m }\n",
      "\n",
      "File \u001b[0;32m/pace/examples/notebooks/functions.py:877\u001b[0m, in \u001b[0;36mrun_finite_volume_fluxprep\u001b[0;34m(stencil_configuration, initial_state, dimensions, timestep, density)\u001b[0m\n",
      "\u001b[1;32m    872\u001b[0m vc_contra \u001b[38;5;241m=\u001b[39m init_quantity(\n",
      "\u001b[1;32m    873\u001b[0m     dimensions, VariableGrid\u001b[38;5;241m.\u001b[39mStaggeredInY, VariableDims\u001b[38;5;241m.\u001b[39mXYZ, units\u001b[38;5;241m=\u001b[39munits[\u001b[38;5;124m\"\u001b[39m\u001b[38;5;124marea\u001b[39m\u001b[38;5;124m\"\u001b[39m]\n",
      "\u001b[1;32m    874\u001b[0m )\n",
      "\u001b[1;32m    876\u001b[0m \u001b[38;5;66;03m# intialize and run\u001b[39;00m\n",
      "\u001b[0;32m--> 877\u001b[0m fvf_prep \u001b[38;5;241m=\u001b[39m \u001b[43mFiniteVolumeFluxPrep\u001b[49m\u001b[43m(\u001b[49m\n",
      "\u001b[1;32m    878\u001b[0m \u001b[43m    \u001b[49m\u001b[43mstencil_configuration\u001b[49m\u001b[43m[\u001b[49m\u001b[38;5;124;43m\"\u001b[39;49m\u001b[38;5;124;43mstencil_factory\u001b[39;49m\u001b[38;5;124;43m\"\u001b[39;49m\u001b[43m]\u001b[49m\u001b[43m,\u001b[49m\u001b[43m \u001b[49m\u001b[43mstencil_configuration\u001b[49m\u001b[43m[\u001b[49m\u001b[38;5;124;43m\"\u001b[39;49m\u001b[38;5;124;43mgrid_data\u001b[39;49m\u001b[38;5;124;43m\"\u001b[39;49m\u001b[43m]\u001b[49m\n",
      "\u001b[1;32m    879\u001b[0m \u001b[43m\u001b[49m\u001b[43m)\u001b[49m\n",
      "\u001b[1;32m    881\u001b[0m fvf_prep(\n",
      "\u001b[1;32m    882\u001b[0m     initial_state[\u001b[38;5;124m\"\u001b[39m\u001b[38;5;124mu_cgrid\u001b[39m\u001b[38;5;124m\"\u001b[39m],\n",
      "\u001b[1;32m    883\u001b[0m     initial_state[\u001b[38;5;124m\"\u001b[39m\u001b[38;5;124mv_cgrid\u001b[39m\u001b[38;5;124m\"\u001b[39m],\n",
      "\u001b[0;32m   (...)\u001b[0m\n",
      "\u001b[1;32m    890\u001b[0m     timestep,\n",
      "\u001b[1;32m    891\u001b[0m )  \u001b[38;5;66;03m# this will modify empty quantities, but not change uc, vc\u001b[39;00m\n",
      "\u001b[1;32m    893\u001b[0m mfxd \u001b[38;5;241m=\u001b[39m init_quantity(\n",
      "\u001b[1;32m    894\u001b[0m     dimensions, VariableGrid\u001b[38;5;241m.\u001b[39mStaggeredInX, VariableDims\u001b[38;5;241m.\u001b[39mXYZ, units\u001b[38;5;241m=\u001b[39munits[\u001b[38;5;124m\"\u001b[39m\u001b[38;5;124marea\u001b[39m\u001b[38;5;124m\"\u001b[39m]\n",
      "\u001b[1;32m    895\u001b[0m )\n",
      "\n",
      "\u001b[0;31mTypeError\u001b[0m: __init__() missing 1 required positional argument: 'grid_type'\n"
     ]
    },
    {
     "data": {
      "text/plain": [
       "[stderr:2] /pace/NDSL/ndsl/grid/gnomonic.py:681: RuntimeWarning: invalid value encountered in true_divide\n",
       "  np.sum(p * q, axis=-1)\n"
      ]
     },
     "metadata": {},
     "output_type": "display_data"
    },
    {
     "name": "stderr",
     "output_type": "stream",
     "text": [
      "[4:execute]\n",
      "\u001b[0;31m---------------------------------------------------------------------------\u001b[0m\n",
      "\u001b[0;31mTypeError\u001b[0m                                 Traceback (most recent call last)\n",
      "Cell \u001b[0;32mIn [15], line 23\u001b[0m\n",
      "\u001b[1;32m     20\u001b[0m stencil_configuration \u001b[38;5;241m=\u001b[39m func\u001b[38;5;241m.\u001b[39mconfigure_stencil(domain_configuration, backend\u001b[38;5;241m=\u001b[39mbackend)\n",
      "\u001b[1;32m     21\u001b[0m stencil_configuration[\u001b[38;5;124m\"\u001b[39m\u001b[38;5;124mquantity_factory\u001b[39m\u001b[38;5;124m\"\u001b[39m] \u001b[38;5;241m=\u001b[39m domain_configuration[\u001b[38;5;124m\"\u001b[39m\u001b[38;5;124mquantity_factory\u001b[39m\u001b[38;5;124m\"\u001b[39m]\n",
      "\u001b[0;32m---> 23\u001b[0m tracer_advection_data, tracer_advection \u001b[38;5;241m=\u001b[39m \u001b[43mfunc\u001b[49m\u001b[38;5;241;43m.\u001b[39;49m\u001b[43mprepare_everything_for_advection\u001b[49m\u001b[43m(\u001b[49m\n",
      "\u001b[1;32m     24\u001b[0m \u001b[43m    \u001b[49m\u001b[43mstencil_configuration\u001b[49m\u001b[43m,\u001b[49m\u001b[43m \u001b[49m\u001b[43minitial_state\u001b[49m\u001b[43m,\u001b[49m\u001b[43m \u001b[49m\u001b[43mdimensions\u001b[49m\u001b[43m,\u001b[49m\u001b[43m \u001b[49m\u001b[43mtimestep\u001b[49m\n",
      "\u001b[1;32m     25\u001b[0m \u001b[43m)\u001b[49m\n",
      "\u001b[1;32m     27\u001b[0m tracer_advection_data_initial \u001b[38;5;241m=\u001b[39m cp\u001b[38;5;241m.\u001b[39mdeepcopy(tracer_advection_data)\n",
      "\u001b[1;32m     29\u001b[0m tracer_state \u001b[38;5;241m=\u001b[39m [cp\u001b[38;5;241m.\u001b[39mdeepcopy(tracer_advection_data_initial[\u001b[38;5;124m\"\u001b[39m\u001b[38;5;124mtracers\u001b[39m\u001b[38;5;124m\"\u001b[39m][\u001b[38;5;124m\"\u001b[39m\u001b[38;5;124mtracer\u001b[39m\u001b[38;5;124m\"\u001b[39m])]\n",
      "\n",
      "File \u001b[0;32m/pace/examples/notebooks/functions.py:987\u001b[0m, in \u001b[0;36mprepare_everything_for_advection\u001b[0;34m(stencil_configuration, initial_state, dimensions, timestep)\u001b[0m\n",
      "\u001b[1;32m    962\u001b[0m \u001b[38;5;124;03m\"\"\"\u001b[39;00m\n",
      "\u001b[1;32m    963\u001b[0m \u001b[38;5;124;03mUse: tracer_advection_data, tracer_advection =\u001b[39;00m\n",
      "\u001b[1;32m    964\u001b[0m \u001b[38;5;124;03m    prepare_everything_for_advection(stencil_configuration, initial_state,\u001b[39;00m\n",
      "\u001b[0;32m   (...)\u001b[0m\n",
      "\u001b[1;32m    982\u001b[0m \n",
      "\u001b[1;32m    983\u001b[0m \u001b[38;5;124;03m\"\"\"\u001b[39;00m\n",
      "\u001b[1;32m    985\u001b[0m tracers \u001b[38;5;241m=\u001b[39m {\u001b[38;5;124m\"\u001b[39m\u001b[38;5;124mtracer\u001b[39m\u001b[38;5;124m\"\u001b[39m: initial_state[\u001b[38;5;124m\"\u001b[39m\u001b[38;5;124mtracer\u001b[39m\u001b[38;5;124m\"\u001b[39m]}\n",
      "\u001b[0;32m--> 987\u001b[0m flux_prep \u001b[38;5;241m=\u001b[39m \u001b[43mrun_finite_volume_fluxprep\u001b[49m\u001b[43m(\u001b[49m\n",
      "\u001b[1;32m    988\u001b[0m \u001b[43m    \u001b[49m\u001b[43mstencil_configuration\u001b[49m\u001b[43m,\u001b[49m\n",
      "\u001b[1;32m    989\u001b[0m \u001b[43m    \u001b[49m\u001b[43minitial_state\u001b[49m\u001b[43m,\u001b[49m\n",
      "\u001b[1;32m    990\u001b[0m \u001b[43m    \u001b[49m\u001b[43mdimensions\u001b[49m\u001b[43m,\u001b[49m\n",
      "\u001b[1;32m    991\u001b[0m \u001b[43m    \u001b[49m\u001b[43mtimestep\u001b[49m\u001b[43m,\u001b[49m\n",
      "\u001b[1;32m    992\u001b[0m \u001b[43m\u001b[49m\u001b[43m)\u001b[49m\n",
      "\u001b[1;32m    994\u001b[0m tracer_advection \u001b[38;5;241m=\u001b[39m build_tracer_advection(stencil_configuration, tracers)\n",
      "\u001b[1;32m    996\u001b[0m tracer_advection_data \u001b[38;5;241m=\u001b[39m {\n",
      "\u001b[1;32m    997\u001b[0m     \u001b[38;5;124m\"\u001b[39m\u001b[38;5;124mtracers\u001b[39m\u001b[38;5;124m\"\u001b[39m: tracers,\n",
      "\u001b[1;32m    998\u001b[0m     \u001b[38;5;124m\"\u001b[39m\u001b[38;5;124mdelp\u001b[39m\u001b[38;5;124m\"\u001b[39m: initial_state[\u001b[38;5;124m\"\u001b[39m\u001b[38;5;124mdelp\u001b[39m\u001b[38;5;124m\"\u001b[39m],\n",
      "\u001b[0;32m   (...)\u001b[0m\n",
      "\u001b[1;32m   1002\u001b[0m     \u001b[38;5;124m\"\u001b[39m\u001b[38;5;124mcry\u001b[39m\u001b[38;5;124m\"\u001b[39m: flux_prep[\u001b[38;5;124m\"\u001b[39m\u001b[38;5;124mcry\u001b[39m\u001b[38;5;124m\"\u001b[39m],\n",
      "\u001b[1;32m   1003\u001b[0m }\n",
      "\n",
      "File \u001b[0;32m/pace/examples/notebooks/functions.py:877\u001b[0m, in \u001b[0;36mrun_finite_volume_fluxprep\u001b[0;34m(stencil_configuration, initial_state, dimensions, timestep, density)\u001b[0m\n",
      "\u001b[1;32m    872\u001b[0m vc_contra \u001b[38;5;241m=\u001b[39m init_quantity(\n",
      "\u001b[1;32m    873\u001b[0m     dimensions, VariableGrid\u001b[38;5;241m.\u001b[39mStaggeredInY, VariableDims\u001b[38;5;241m.\u001b[39mXYZ, units\u001b[38;5;241m=\u001b[39munits[\u001b[38;5;124m\"\u001b[39m\u001b[38;5;124marea\u001b[39m\u001b[38;5;124m\"\u001b[39m]\n",
      "\u001b[1;32m    874\u001b[0m )\n",
      "\u001b[1;32m    876\u001b[0m \u001b[38;5;66;03m# intialize and run\u001b[39;00m\n",
      "\u001b[0;32m--> 877\u001b[0m fvf_prep \u001b[38;5;241m=\u001b[39m \u001b[43mFiniteVolumeFluxPrep\u001b[49m\u001b[43m(\u001b[49m\n",
      "\u001b[1;32m    878\u001b[0m \u001b[43m    \u001b[49m\u001b[43mstencil_configuration\u001b[49m\u001b[43m[\u001b[49m\u001b[38;5;124;43m\"\u001b[39;49m\u001b[38;5;124;43mstencil_factory\u001b[39;49m\u001b[38;5;124;43m\"\u001b[39;49m\u001b[43m]\u001b[49m\u001b[43m,\u001b[49m\u001b[43m \u001b[49m\u001b[43mstencil_configuration\u001b[49m\u001b[43m[\u001b[49m\u001b[38;5;124;43m\"\u001b[39;49m\u001b[38;5;124;43mgrid_data\u001b[39;49m\u001b[38;5;124;43m\"\u001b[39;49m\u001b[43m]\u001b[49m\n",
      "\u001b[1;32m    879\u001b[0m \u001b[43m\u001b[49m\u001b[43m)\u001b[49m\n",
      "\u001b[1;32m    881\u001b[0m fvf_prep(\n",
      "\u001b[1;32m    882\u001b[0m     initial_state[\u001b[38;5;124m\"\u001b[39m\u001b[38;5;124mu_cgrid\u001b[39m\u001b[38;5;124m\"\u001b[39m],\n",
      "\u001b[1;32m    883\u001b[0m     initial_state[\u001b[38;5;124m\"\u001b[39m\u001b[38;5;124mv_cgrid\u001b[39m\u001b[38;5;124m\"\u001b[39m],\n",
      "\u001b[0;32m   (...)\u001b[0m\n",
      "\u001b[1;32m    890\u001b[0m     timestep,\n",
      "\u001b[1;32m    891\u001b[0m )  \u001b[38;5;66;03m# this will modify empty quantities, but not change uc, vc\u001b[39;00m\n",
      "\u001b[1;32m    893\u001b[0m mfxd \u001b[38;5;241m=\u001b[39m init_quantity(\n",
      "\u001b[1;32m    894\u001b[0m     dimensions, VariableGrid\u001b[38;5;241m.\u001b[39mStaggeredInX, VariableDims\u001b[38;5;241m.\u001b[39mXYZ, units\u001b[38;5;241m=\u001b[39munits[\u001b[38;5;124m\"\u001b[39m\u001b[38;5;124marea\u001b[39m\u001b[38;5;124m\"\u001b[39m]\n",
      "\u001b[1;32m    895\u001b[0m )\n",
      "\n",
      "\u001b[0;31mTypeError\u001b[0m: __init__() missing 1 required positional argument: 'grid_type'\n"
     ]
    },
    {
     "data": {
      "text/plain": [
       "[stderr:5] /pace/NDSL/ndsl/grid/gnomonic.py:681: RuntimeWarning: invalid value encountered in true_divide\n",
       "  np.sum(p * q, axis=-1)\n"
      ]
     },
     "metadata": {},
     "output_type": "display_data"
    },
    {
     "name": "stderr",
     "output_type": "stream",
     "text": [
      "[0:execute]\n",
      "\u001b[0;31m---------------------------------------------------------------------------\u001b[0m\n",
      "\u001b[0;31mTypeError\u001b[0m                                 Traceback (most recent call last)\n",
      "Cell \u001b[0;32mIn [15], line 23\u001b[0m\n",
      "\u001b[1;32m     20\u001b[0m stencil_configuration \u001b[38;5;241m=\u001b[39m func\u001b[38;5;241m.\u001b[39mconfigure_stencil(domain_configuration, backend\u001b[38;5;241m=\u001b[39mbackend)\n",
      "\u001b[1;32m     21\u001b[0m stencil_configuration[\u001b[38;5;124m\"\u001b[39m\u001b[38;5;124mquantity_factory\u001b[39m\u001b[38;5;124m\"\u001b[39m] \u001b[38;5;241m=\u001b[39m domain_configuration[\u001b[38;5;124m\"\u001b[39m\u001b[38;5;124mquantity_factory\u001b[39m\u001b[38;5;124m\"\u001b[39m]\n",
      "\u001b[0;32m---> 23\u001b[0m tracer_advection_data, tracer_advection \u001b[38;5;241m=\u001b[39m \u001b[43mfunc\u001b[49m\u001b[38;5;241;43m.\u001b[39;49m\u001b[43mprepare_everything_for_advection\u001b[49m\u001b[43m(\u001b[49m\n",
      "\u001b[1;32m     24\u001b[0m \u001b[43m    \u001b[49m\u001b[43mstencil_configuration\u001b[49m\u001b[43m,\u001b[49m\u001b[43m \u001b[49m\u001b[43minitial_state\u001b[49m\u001b[43m,\u001b[49m\u001b[43m \u001b[49m\u001b[43mdimensions\u001b[49m\u001b[43m,\u001b[49m\u001b[43m \u001b[49m\u001b[43mtimestep\u001b[49m\n",
      "\u001b[1;32m     25\u001b[0m \u001b[43m)\u001b[49m\n",
      "\u001b[1;32m     27\u001b[0m tracer_advection_data_initial \u001b[38;5;241m=\u001b[39m cp\u001b[38;5;241m.\u001b[39mdeepcopy(tracer_advection_data)\n",
      "\u001b[1;32m     29\u001b[0m tracer_state \u001b[38;5;241m=\u001b[39m [cp\u001b[38;5;241m.\u001b[39mdeepcopy(tracer_advection_data_initial[\u001b[38;5;124m\"\u001b[39m\u001b[38;5;124mtracers\u001b[39m\u001b[38;5;124m\"\u001b[39m][\u001b[38;5;124m\"\u001b[39m\u001b[38;5;124mtracer\u001b[39m\u001b[38;5;124m\"\u001b[39m])]\n",
      "\n",
      "File \u001b[0;32m/pace/examples/notebooks/functions.py:987\u001b[0m, in \u001b[0;36mprepare_everything_for_advection\u001b[0;34m(stencil_configuration, initial_state, dimensions, timestep)\u001b[0m\n",
      "\u001b[1;32m    962\u001b[0m \u001b[38;5;124;03m\"\"\"\u001b[39;00m\n",
      "\u001b[1;32m    963\u001b[0m \u001b[38;5;124;03mUse: tracer_advection_data, tracer_advection =\u001b[39;00m\n",
      "\u001b[1;32m    964\u001b[0m \u001b[38;5;124;03m    prepare_everything_for_advection(stencil_configuration, initial_state,\u001b[39;00m\n",
      "\u001b[0;32m   (...)\u001b[0m\n",
      "\u001b[1;32m    982\u001b[0m \n",
      "\u001b[1;32m    983\u001b[0m \u001b[38;5;124;03m\"\"\"\u001b[39;00m\n",
      "\u001b[1;32m    985\u001b[0m tracers \u001b[38;5;241m=\u001b[39m {\u001b[38;5;124m\"\u001b[39m\u001b[38;5;124mtracer\u001b[39m\u001b[38;5;124m\"\u001b[39m: initial_state[\u001b[38;5;124m\"\u001b[39m\u001b[38;5;124mtracer\u001b[39m\u001b[38;5;124m\"\u001b[39m]}\n",
      "\u001b[0;32m--> 987\u001b[0m flux_prep \u001b[38;5;241m=\u001b[39m \u001b[43mrun_finite_volume_fluxprep\u001b[49m\u001b[43m(\u001b[49m\n",
      "\u001b[1;32m    988\u001b[0m \u001b[43m    \u001b[49m\u001b[43mstencil_configuration\u001b[49m\u001b[43m,\u001b[49m\n",
      "\u001b[1;32m    989\u001b[0m \u001b[43m    \u001b[49m\u001b[43minitial_state\u001b[49m\u001b[43m,\u001b[49m\n",
      "\u001b[1;32m    990\u001b[0m \u001b[43m    \u001b[49m\u001b[43mdimensions\u001b[49m\u001b[43m,\u001b[49m\n",
      "\u001b[1;32m    991\u001b[0m \u001b[43m    \u001b[49m\u001b[43mtimestep\u001b[49m\u001b[43m,\u001b[49m\n",
      "\u001b[1;32m    992\u001b[0m \u001b[43m\u001b[49m\u001b[43m)\u001b[49m\n",
      "\u001b[1;32m    994\u001b[0m tracer_advection \u001b[38;5;241m=\u001b[39m build_tracer_advection(stencil_configuration, tracers)\n",
      "\u001b[1;32m    996\u001b[0m tracer_advection_data \u001b[38;5;241m=\u001b[39m {\n",
      "\u001b[1;32m    997\u001b[0m     \u001b[38;5;124m\"\u001b[39m\u001b[38;5;124mtracers\u001b[39m\u001b[38;5;124m\"\u001b[39m: tracers,\n",
      "\u001b[1;32m    998\u001b[0m     \u001b[38;5;124m\"\u001b[39m\u001b[38;5;124mdelp\u001b[39m\u001b[38;5;124m\"\u001b[39m: initial_state[\u001b[38;5;124m\"\u001b[39m\u001b[38;5;124mdelp\u001b[39m\u001b[38;5;124m\"\u001b[39m],\n",
      "\u001b[0;32m   (...)\u001b[0m\n",
      "\u001b[1;32m   1002\u001b[0m     \u001b[38;5;124m\"\u001b[39m\u001b[38;5;124mcry\u001b[39m\u001b[38;5;124m\"\u001b[39m: flux_prep[\u001b[38;5;124m\"\u001b[39m\u001b[38;5;124mcry\u001b[39m\u001b[38;5;124m\"\u001b[39m],\n",
      "\u001b[1;32m   1003\u001b[0m }\n",
      "\n",
      "File \u001b[0;32m/pace/examples/notebooks/functions.py:877\u001b[0m, in \u001b[0;36mrun_finite_volume_fluxprep\u001b[0;34m(stencil_configuration, initial_state, dimensions, timestep, density)\u001b[0m\n",
      "\u001b[1;32m    872\u001b[0m vc_contra \u001b[38;5;241m=\u001b[39m init_quantity(\n",
      "\u001b[1;32m    873\u001b[0m     dimensions, VariableGrid\u001b[38;5;241m.\u001b[39mStaggeredInY, VariableDims\u001b[38;5;241m.\u001b[39mXYZ, units\u001b[38;5;241m=\u001b[39munits[\u001b[38;5;124m\"\u001b[39m\u001b[38;5;124marea\u001b[39m\u001b[38;5;124m\"\u001b[39m]\n",
      "\u001b[1;32m    874\u001b[0m )\n",
      "\u001b[1;32m    876\u001b[0m \u001b[38;5;66;03m# intialize and run\u001b[39;00m\n",
      "\u001b[0;32m--> 877\u001b[0m fvf_prep \u001b[38;5;241m=\u001b[39m \u001b[43mFiniteVolumeFluxPrep\u001b[49m\u001b[43m(\u001b[49m\n",
      "\u001b[1;32m    878\u001b[0m \u001b[43m    \u001b[49m\u001b[43mstencil_configuration\u001b[49m\u001b[43m[\u001b[49m\u001b[38;5;124;43m\"\u001b[39;49m\u001b[38;5;124;43mstencil_factory\u001b[39;49m\u001b[38;5;124;43m\"\u001b[39;49m\u001b[43m]\u001b[49m\u001b[43m,\u001b[49m\u001b[43m \u001b[49m\u001b[43mstencil_configuration\u001b[49m\u001b[43m[\u001b[49m\u001b[38;5;124;43m\"\u001b[39;49m\u001b[38;5;124;43mgrid_data\u001b[39;49m\u001b[38;5;124;43m\"\u001b[39;49m\u001b[43m]\u001b[49m\n",
      "\u001b[1;32m    879\u001b[0m \u001b[43m\u001b[49m\u001b[43m)\u001b[49m\n",
      "\u001b[1;32m    881\u001b[0m fvf_prep(\n",
      "\u001b[1;32m    882\u001b[0m     initial_state[\u001b[38;5;124m\"\u001b[39m\u001b[38;5;124mu_cgrid\u001b[39m\u001b[38;5;124m\"\u001b[39m],\n",
      "\u001b[1;32m    883\u001b[0m     initial_state[\u001b[38;5;124m\"\u001b[39m\u001b[38;5;124mv_cgrid\u001b[39m\u001b[38;5;124m\"\u001b[39m],\n",
      "\u001b[0;32m   (...)\u001b[0m\n",
      "\u001b[1;32m    890\u001b[0m     timestep,\n",
      "\u001b[1;32m    891\u001b[0m )  \u001b[38;5;66;03m# this will modify empty quantities, but not change uc, vc\u001b[39;00m\n",
      "\u001b[1;32m    893\u001b[0m mfxd \u001b[38;5;241m=\u001b[39m init_quantity(\n",
      "\u001b[1;32m    894\u001b[0m     dimensions, VariableGrid\u001b[38;5;241m.\u001b[39mStaggeredInX, VariableDims\u001b[38;5;241m.\u001b[39mXYZ, units\u001b[38;5;241m=\u001b[39munits[\u001b[38;5;124m\"\u001b[39m\u001b[38;5;124marea\u001b[39m\u001b[38;5;124m\"\u001b[39m]\n",
      "\u001b[1;32m    895\u001b[0m )\n",
      "\n",
      "\u001b[0;31mTypeError\u001b[0m: __init__() missing 1 required positional argument: 'grid_type'\n",
      "[2:execute]\n",
      "\u001b[0;31m---------------------------------------------------------------------------\u001b[0m\n",
      "\u001b[0;31mTypeError\u001b[0m                                 Traceback (most recent call last)\n",
      "Cell \u001b[0;32mIn [15], line 23\u001b[0m\n",
      "\u001b[1;32m     20\u001b[0m stencil_configuration \u001b[38;5;241m=\u001b[39m func\u001b[38;5;241m.\u001b[39mconfigure_stencil(domain_configuration, backend\u001b[38;5;241m=\u001b[39mbackend)\n",
      "\u001b[1;32m     21\u001b[0m stencil_configuration[\u001b[38;5;124m\"\u001b[39m\u001b[38;5;124mquantity_factory\u001b[39m\u001b[38;5;124m\"\u001b[39m] \u001b[38;5;241m=\u001b[39m domain_configuration[\u001b[38;5;124m\"\u001b[39m\u001b[38;5;124mquantity_factory\u001b[39m\u001b[38;5;124m\"\u001b[39m]\n",
      "\u001b[0;32m---> 23\u001b[0m tracer_advection_data, tracer_advection \u001b[38;5;241m=\u001b[39m \u001b[43mfunc\u001b[49m\u001b[38;5;241;43m.\u001b[39;49m\u001b[43mprepare_everything_for_advection\u001b[49m\u001b[43m(\u001b[49m\n",
      "\u001b[1;32m     24\u001b[0m \u001b[43m    \u001b[49m\u001b[43mstencil_configuration\u001b[49m\u001b[43m,\u001b[49m\u001b[43m \u001b[49m\u001b[43minitial_state\u001b[49m\u001b[43m,\u001b[49m\u001b[43m \u001b[49m\u001b[43mdimensions\u001b[49m\u001b[43m,\u001b[49m\u001b[43m \u001b[49m\u001b[43mtimestep\u001b[49m\n",
      "\u001b[1;32m     25\u001b[0m \u001b[43m)\u001b[49m\n",
      "\u001b[1;32m     27\u001b[0m tracer_advection_data_initial \u001b[38;5;241m=\u001b[39m cp\u001b[38;5;241m.\u001b[39mdeepcopy(tracer_advection_data)\n",
      "\u001b[1;32m     29\u001b[0m tracer_state \u001b[38;5;241m=\u001b[39m [cp\u001b[38;5;241m.\u001b[39mdeepcopy(tracer_advection_data_initial[\u001b[38;5;124m\"\u001b[39m\u001b[38;5;124mtracers\u001b[39m\u001b[38;5;124m\"\u001b[39m][\u001b[38;5;124m\"\u001b[39m\u001b[38;5;124mtracer\u001b[39m\u001b[38;5;124m\"\u001b[39m])]\n",
      "\n",
      "File \u001b[0;32m/pace/examples/notebooks/functions.py:987\u001b[0m, in \u001b[0;36mprepare_everything_for_advection\u001b[0;34m(stencil_configuration, initial_state, dimensions, timestep)\u001b[0m\n",
      "\u001b[1;32m    962\u001b[0m \u001b[38;5;124;03m\"\"\"\u001b[39;00m\n",
      "\u001b[1;32m    963\u001b[0m \u001b[38;5;124;03mUse: tracer_advection_data, tracer_advection =\u001b[39;00m\n",
      "\u001b[1;32m    964\u001b[0m \u001b[38;5;124;03m    prepare_everything_for_advection(stencil_configuration, initial_state,\u001b[39;00m\n",
      "\u001b[0;32m   (...)\u001b[0m\n",
      "\u001b[1;32m    982\u001b[0m \n",
      "\u001b[1;32m    983\u001b[0m \u001b[38;5;124;03m\"\"\"\u001b[39;00m\n",
      "\u001b[1;32m    985\u001b[0m tracers \u001b[38;5;241m=\u001b[39m {\u001b[38;5;124m\"\u001b[39m\u001b[38;5;124mtracer\u001b[39m\u001b[38;5;124m\"\u001b[39m: initial_state[\u001b[38;5;124m\"\u001b[39m\u001b[38;5;124mtracer\u001b[39m\u001b[38;5;124m\"\u001b[39m]}\n",
      "\u001b[0;32m--> 987\u001b[0m flux_prep \u001b[38;5;241m=\u001b[39m \u001b[43mrun_finite_volume_fluxprep\u001b[49m\u001b[43m(\u001b[49m\n",
      "\u001b[1;32m    988\u001b[0m \u001b[43m    \u001b[49m\u001b[43mstencil_configuration\u001b[49m\u001b[43m,\u001b[49m\n",
      "\u001b[1;32m    989\u001b[0m \u001b[43m    \u001b[49m\u001b[43minitial_state\u001b[49m\u001b[43m,\u001b[49m\n",
      "\u001b[1;32m    990\u001b[0m \u001b[43m    \u001b[49m\u001b[43mdimensions\u001b[49m\u001b[43m,\u001b[49m\n",
      "\u001b[1;32m    991\u001b[0m \u001b[43m    \u001b[49m\u001b[43mtimestep\u001b[49m\u001b[43m,\u001b[49m\n",
      "\u001b[1;32m    992\u001b[0m \u001b[43m\u001b[49m\u001b[43m)\u001b[49m\n",
      "\u001b[1;32m    994\u001b[0m tracer_advection \u001b[38;5;241m=\u001b[39m build_tracer_advection(stencil_configuration, tracers)\n",
      "\u001b[1;32m    996\u001b[0m tracer_advection_data \u001b[38;5;241m=\u001b[39m {\n",
      "\u001b[1;32m    997\u001b[0m     \u001b[38;5;124m\"\u001b[39m\u001b[38;5;124mtracers\u001b[39m\u001b[38;5;124m\"\u001b[39m: tracers,\n",
      "\u001b[1;32m    998\u001b[0m     \u001b[38;5;124m\"\u001b[39m\u001b[38;5;124mdelp\u001b[39m\u001b[38;5;124m\"\u001b[39m: initial_state[\u001b[38;5;124m\"\u001b[39m\u001b[38;5;124mdelp\u001b[39m\u001b[38;5;124m\"\u001b[39m],\n",
      "\u001b[0;32m   (...)\u001b[0m\n",
      "\u001b[1;32m   1002\u001b[0m     \u001b[38;5;124m\"\u001b[39m\u001b[38;5;124mcry\u001b[39m\u001b[38;5;124m\"\u001b[39m: flux_prep[\u001b[38;5;124m\"\u001b[39m\u001b[38;5;124mcry\u001b[39m\u001b[38;5;124m\"\u001b[39m],\n",
      "\u001b[1;32m   1003\u001b[0m }\n",
      "\n",
      "File \u001b[0;32m/pace/examples/notebooks/functions.py:877\u001b[0m, in \u001b[0;36mrun_finite_volume_fluxprep\u001b[0;34m(stencil_configuration, initial_state, dimensions, timestep, density)\u001b[0m\n",
      "\u001b[1;32m    872\u001b[0m vc_contra \u001b[38;5;241m=\u001b[39m init_quantity(\n",
      "\u001b[1;32m    873\u001b[0m     dimensions, VariableGrid\u001b[38;5;241m.\u001b[39mStaggeredInY, VariableDims\u001b[38;5;241m.\u001b[39mXYZ, units\u001b[38;5;241m=\u001b[39munits[\u001b[38;5;124m\"\u001b[39m\u001b[38;5;124marea\u001b[39m\u001b[38;5;124m\"\u001b[39m]\n",
      "\u001b[1;32m    874\u001b[0m )\n",
      "\u001b[1;32m    876\u001b[0m \u001b[38;5;66;03m# intialize and run\u001b[39;00m\n",
      "\u001b[0;32m--> 877\u001b[0m fvf_prep \u001b[38;5;241m=\u001b[39m \u001b[43mFiniteVolumeFluxPrep\u001b[49m\u001b[43m(\u001b[49m\n",
      "\u001b[1;32m    878\u001b[0m \u001b[43m    \u001b[49m\u001b[43mstencil_configuration\u001b[49m\u001b[43m[\u001b[49m\u001b[38;5;124;43m\"\u001b[39;49m\u001b[38;5;124;43mstencil_factory\u001b[39;49m\u001b[38;5;124;43m\"\u001b[39;49m\u001b[43m]\u001b[49m\u001b[43m,\u001b[49m\u001b[43m \u001b[49m\u001b[43mstencil_configuration\u001b[49m\u001b[43m[\u001b[49m\u001b[38;5;124;43m\"\u001b[39;49m\u001b[38;5;124;43mgrid_data\u001b[39;49m\u001b[38;5;124;43m\"\u001b[39;49m\u001b[43m]\u001b[49m\n",
      "\u001b[1;32m    879\u001b[0m \u001b[43m\u001b[49m\u001b[43m)\u001b[49m\n",
      "\u001b[1;32m    881\u001b[0m fvf_prep(\n",
      "\u001b[1;32m    882\u001b[0m     initial_state[\u001b[38;5;124m\"\u001b[39m\u001b[38;5;124mu_cgrid\u001b[39m\u001b[38;5;124m\"\u001b[39m],\n",
      "\u001b[1;32m    883\u001b[0m     initial_state[\u001b[38;5;124m\"\u001b[39m\u001b[38;5;124mv_cgrid\u001b[39m\u001b[38;5;124m\"\u001b[39m],\n",
      "\u001b[0;32m   (...)\u001b[0m\n",
      "\u001b[1;32m    890\u001b[0m     timestep,\n",
      "\u001b[1;32m    891\u001b[0m )  \u001b[38;5;66;03m# this will modify empty quantities, but not change uc, vc\u001b[39;00m\n",
      "\u001b[1;32m    893\u001b[0m mfxd \u001b[38;5;241m=\u001b[39m init_quantity(\n",
      "\u001b[1;32m    894\u001b[0m     dimensions, VariableGrid\u001b[38;5;241m.\u001b[39mStaggeredInX, VariableDims\u001b[38;5;241m.\u001b[39mXYZ, units\u001b[38;5;241m=\u001b[39munits[\u001b[38;5;124m\"\u001b[39m\u001b[38;5;124marea\u001b[39m\u001b[38;5;124m\"\u001b[39m]\n",
      "\u001b[1;32m    895\u001b[0m )\n",
      "\n",
      "\u001b[0;31mTypeError\u001b[0m: __init__() missing 1 required positional argument: 'grid_type'\n",
      "[5:execute] TypeError: __init__() missing 1 required positional argument: 'grid_type'\n",
      "[3:execute] TypeError: __init__() missing 1 required positional argument: 'grid_type'\n"
     ]
    },
    {
     "ename": "AlreadyDisplayedError",
     "evalue": "6 errors",
     "output_type": "error",
     "traceback": [
      "6 errors"
     ]
    }
   ],
   "source": [
    "mpi_comm = MPI.COMM_WORLD\n",
    "mpi_rank = mpi_comm.Get_rank()\n",
    "\n",
    "nz = 79\n",
    "if nz == 1:\n",
    "    single_layer = True\n",
    "else:\n",
    "    single_layer = False\n",
    "\n",
    "namelist_dict = func.store_namelist_variables(locals())\n",
    "dimensions = func.define_dimensions(namelist_dict)\n",
    "\n",
    "\n",
    "domain_configuration = func.configure_domain(mpi_comm, dimensions, single_layer=single_layer)\n",
    "\n",
    "initial_state = func.create_initial_state_advection(\n",
    "    domain_configuration[\"metric_terms\"], dimensions, tracer_center, test_case\n",
    ")\n",
    "\n",
    "stencil_configuration = func.configure_stencil(domain_configuration, backend=backend)\n",
    "stencil_configuration[\"quantity_factory\"] = domain_configuration[\"quantity_factory\"]\n",
    "\n",
    "tracer_advection_data, tracer_advection = func.prepare_everything_for_advection(\n",
    "    stencil_configuration, initial_state, dimensions, timestep\n",
    ")\n",
    "\n",
    "tracer_advection_data_initial = cp.deepcopy(tracer_advection_data)\n",
    "\n",
    "tracer_state = [cp.deepcopy(tracer_advection_data_initial[\"tracers\"][\"tracer\"])]\n",
    "\n",
    "nSteps = 10\n",
    "for step in range(nSteps):\n",
    "    tracer_advection_data = func.run_advection_step_with_reset(\n",
    "        tracer_advection_data_initial, tracer_advection_data, tracer_advection\n",
    "    )\n",
    "\n",
    "    tracer_state.append(cp.deepcopy(tracer_advection_data[\"tracers\"][\"tracer\"]))\n"
   ]
  },
  {
   "cell_type": "code",
   "execution_count": 27,
   "id": "fe879468",
   "metadata": {},
   "outputs": [
    {
     "data": {
      "text/plain": [
       "[output:0]"
      ]
     },
     "metadata": {},
     "output_type": "display_data"
    },
    {
     "data": {
      "image/png": "[encoded data removed]",
      "text/plain": [
       "<Figure size 1600x400 with 6 Axes>"
      ]
     },
     "metadata": {
      "engine": 0
     },
     "output_type": "display_data"
    }
   ],
   "source": [
    "if mpi_rank == 0:\n",
    "    fig = plt.figure(figsize=(16, 4))\n",
    "    fig.patch.set_facecolor(\"white\")\n",
    "    ax_before = fig.add_subplot(131)\n",
    "    ax_after = fig.add_subplot(132)\n",
    "    ax_diff = fig.add_subplot(133)\n",
    "\n",
    "    f1 = ax_before.pcolormesh(\n",
    "        tracer_state[0].data[:, :, 0].T, vmin=-0, vmax=1, cmap=\"viridis\"\n",
    "    )\n",
    "    plt.colorbar(f1, ax=ax_before)\n",
    "    f2 = ax_after.pcolormesh(\n",
    "        tracer_state[-1].data[:, :, 0].T, vmin=-0, vmax=1, cmap=\"viridis\"\n",
    "    )\n",
    "    plt.colorbar(f2, ax=ax_after)\n",
    "    f3 = ax_diff.pcolormesh(\n",
    "        (tracer_state[-1].data[:, :, 0] - tracer_state[0].data[:, :, 0]).T,\n",
    "        vmin=-0.5,\n",
    "        vmax=0.5,\n",
    "        cmap=\"bwr\",\n",
    "    )\n",
    "    plt.colorbar(f3, ax=ax_diff)\n",
    "\n",
    "    ax_before.set_title(\"tracer concentration at t=0\")\n",
    "    ax_after.set_title(\"tracer concentration after %s steps\" % nSteps)\n",
    "    ax_diff.set_title(\"difference after %s steps\" % nSteps)\n",
    "    plt.show()"
   ]
  },
  {
   "cell_type": "markdown",
   "id": "79388634",
   "metadata": {},
   "source": [
    "For a faster calculation, we can set the number of vertical levels to 1. This will increase computation speed more significantly once we add more time steps, or more points in the x- and y- dimensions. "
   ]
  },
  {
   "cell_type": "code",
   "execution_count": 28,
   "id": "ced9db5c",
   "metadata": {},
   "outputs": [
    {
     "name": "stderr",
     "output_type": "stream",
     "text": [
      "[0:execute]\n",
      "\u001b[0;31m---------------------------------------------------------------------------\u001b[0m\n",
      "\u001b[0;31mValueError\u001b[0m                                Traceback (most recent call last)\n",
      "Cell \u001b[0;32mIn [17], line 14\u001b[0m\n",
      "\u001b[1;32m     10\u001b[0m namelist_dict \u001b[38;5;241m=\u001b[39m func\u001b[38;5;241m.\u001b[39mstore_namelist_variables(\u001b[38;5;28mlocals\u001b[39m())\n",
      "\u001b[1;32m     11\u001b[0m dimensions \u001b[38;5;241m=\u001b[39m func\u001b[38;5;241m.\u001b[39mdefine_dimensions(namelist_dict)\n",
      "\u001b[0;32m---> 14\u001b[0m domain_configuration \u001b[38;5;241m=\u001b[39m \u001b[43mfunc\u001b[49m\u001b[38;5;241;43m.\u001b[39;49m\u001b[43mconfigure_domain\u001b[49m\u001b[43m(\u001b[49m\u001b[43mmpi_comm\u001b[49m\u001b[43m,\u001b[49m\u001b[43m \u001b[49m\u001b[43mdimensions\u001b[49m\u001b[43m,\u001b[49m\u001b[43m \u001b[49m\u001b[43msingle_layer\u001b[49m\u001b[38;5;241;43m=\u001b[39;49m\u001b[43msingle_layer\u001b[49m\u001b[43m)\u001b[49m\n",
      "\u001b[1;32m     16\u001b[0m initial_state \u001b[38;5;241m=\u001b[39m func\u001b[38;5;241m.\u001b[39mcreate_initial_state_advection(\n",
      "\u001b[1;32m     17\u001b[0m     domain_configuration[\u001b[38;5;124m\"\u001b[39m\u001b[38;5;124mmetric_terms\u001b[39m\u001b[38;5;124m\"\u001b[39m], dimensions, tracer_center, test_case\n",
      "\u001b[1;32m     18\u001b[0m )\n",
      "\u001b[1;32m     20\u001b[0m stencil_configuration \u001b[38;5;241m=\u001b[39m func\u001b[38;5;241m.\u001b[39mconfigure_stencil(domain_configuration, backend\u001b[38;5;241m=\u001b[39mbackend)\n",
      "\n",
      "File \u001b[0;32m/pace/examples/notebooks/functions.py:269\u001b[0m, in \u001b[0;36mconfigure_domain\u001b[0;34m(mpi_comm, dimensions, single_layer, backend)\u001b[0m\n",
      "\u001b[1;32m    256\u001b[0m sizer \u001b[38;5;241m=\u001b[39m SubtileGridSizer\u001b[38;5;241m.\u001b[39mfrom_tile_params(\n",
      "\u001b[1;32m    257\u001b[0m     nx_tile\u001b[38;5;241m=\u001b[39mdimensions[\u001b[38;5;124m\"\u001b[39m\u001b[38;5;124mnx\u001b[39m\u001b[38;5;124m\"\u001b[39m],\n",
      "\u001b[1;32m    258\u001b[0m     ny_tile\u001b[38;5;241m=\u001b[39mdimensions[\u001b[38;5;124m\"\u001b[39m\u001b[38;5;124mny\u001b[39m\u001b[38;5;124m\"\u001b[39m],\n",
      "\u001b[0;32m   (...)\u001b[0m\n",
      "\u001b[1;32m    264\u001b[0m     tile_rank\u001b[38;5;241m=\u001b[39mcommunicator\u001b[38;5;241m.\u001b[39mtile\u001b[38;5;241m.\u001b[39mrank,\n",
      "\u001b[1;32m    265\u001b[0m )\n",
      "\u001b[1;32m    267\u001b[0m quantity_factory \u001b[38;5;241m=\u001b[39m QuantityFactory\u001b[38;5;241m.\u001b[39mfrom_backend(sizer\u001b[38;5;241m=\u001b[39msizer, backend\u001b[38;5;241m=\u001b[39mbackend)\n",
      "\u001b[0;32m--> 269\u001b[0m metric_terms \u001b[38;5;241m=\u001b[39m \u001b[43mMetricTerms\u001b[49m\u001b[43m(\u001b[49m\n",
      "\u001b[1;32m    270\u001b[0m \u001b[43m    \u001b[49m\u001b[43mquantity_factory\u001b[49m\u001b[38;5;241;43m=\u001b[39;49m\u001b[43mquantity_factory\u001b[49m\u001b[43m,\u001b[49m\u001b[43m \u001b[49m\u001b[43mcommunicator\u001b[49m\u001b[38;5;241;43m=\u001b[39;49m\u001b[43mcommunicator\u001b[49m\u001b[43m,\u001b[49m\u001b[43m \u001b[49m\u001b[43meta_file\u001b[49m\u001b[38;5;241;43m=\u001b[39;49m\u001b[38;5;124;43m\"\u001b[39;49m\u001b[38;5;124;43meta79.nc\u001b[39;49m\u001b[38;5;124;43m\"\u001b[39;49m\n",
      "\u001b[1;32m    271\u001b[0m \u001b[43m\u001b[49m\u001b[43m)\u001b[49m\n",
      "\u001b[1;32m    273\u001b[0m \u001b[38;5;66;03m# workaround for single layer\u001b[39;00m\n",
      "\u001b[1;32m    274\u001b[0m \u001b[38;5;28;01mif\u001b[39;00m single_layer:\n",
      "\n",
      "File \u001b[0;32m/pace/NDSL/ndsl/grid/generation.py:304\u001b[0m, in \u001b[0;36mMetricTerms.__init__\u001b[0;34m(self, quantity_factory, communicator, grid_type, dx_const, dy_const, deglat, extdgrid, eta_file)\u001b[0m\n",
      "\u001b[1;32m    297\u001b[0m \u001b[38;5;28mself\u001b[39m\u001b[38;5;241m.\u001b[39m_area \u001b[38;5;241m=\u001b[39m \u001b[38;5;28;01mNone\u001b[39;00m\n",
      "\u001b[1;32m    298\u001b[0m \u001b[38;5;28mself\u001b[39m\u001b[38;5;241m.\u001b[39m_area_c \u001b[38;5;241m=\u001b[39m \u001b[38;5;28;01mNone\u001b[39;00m\n",
      "\u001b[1;32m    299\u001b[0m (\n",
      "\u001b[1;32m    300\u001b[0m     \u001b[38;5;28mself\u001b[39m\u001b[38;5;241m.\u001b[39m_ks,\n",
      "\u001b[1;32m    301\u001b[0m     \u001b[38;5;28mself\u001b[39m\u001b[38;5;241m.\u001b[39m_ptop,\n",
      "\u001b[1;32m    302\u001b[0m     \u001b[38;5;28mself\u001b[39m\u001b[38;5;241m.\u001b[39m_ak,\n",
      "\u001b[1;32m    303\u001b[0m     \u001b[38;5;28mself\u001b[39m\u001b[38;5;241m.\u001b[39m_bk,\n",
      "\u001b[0;32m--> 304\u001b[0m ) \u001b[38;5;241m=\u001b[39m \u001b[38;5;28;43mself\u001b[39;49m\u001b[38;5;241;43m.\u001b[39;49m\u001b[43m_set_hybrid_pressure_coefficients\u001b[49m\u001b[43m(\u001b[49m\u001b[43meta_file\u001b[49m\u001b[43m)\u001b[49m\n",
      "\u001b[1;32m    305\u001b[0m \u001b[38;5;28mself\u001b[39m\u001b[38;5;241m.\u001b[39m_ec1 \u001b[38;5;241m=\u001b[39m \u001b[38;5;28;01mNone\u001b[39;00m\n",
      "\u001b[1;32m    306\u001b[0m \u001b[38;5;28mself\u001b[39m\u001b[38;5;241m.\u001b[39m_ec2 \u001b[38;5;241m=\u001b[39m \u001b[38;5;28;01mNone\u001b[39;00m\n",
      "\n",
      "File \u001b[0;32m/pace/NDSL/ndsl/grid/generation.py:2172\u001b[0m, in \u001b[0;36mMetricTerms._set_hybrid_pressure_coefficients\u001b[0;34m(self, eta_file)\u001b[0m\n",
      "\u001b[1;32m   2162\u001b[0m ak \u001b[38;5;241m=\u001b[39m \u001b[38;5;28mself\u001b[39m\u001b[38;5;241m.\u001b[39mquantity_factory\u001b[38;5;241m.\u001b[39mzeros(\n",
      "\u001b[1;32m   2163\u001b[0m     [Z_INTERFACE_DIM],\n",
      "\u001b[1;32m   2164\u001b[0m     \u001b[38;5;124m\"\u001b[39m\u001b[38;5;124mPa\u001b[39m\u001b[38;5;124m\"\u001b[39m,\n",
      "\u001b[1;32m   2165\u001b[0m     dtype\u001b[38;5;241m=\u001b[39mFloat,\n",
      "\u001b[1;32m   2166\u001b[0m )\n",
      "\u001b[1;32m   2167\u001b[0m bk \u001b[38;5;241m=\u001b[39m \u001b[38;5;28mself\u001b[39m\u001b[38;5;241m.\u001b[39mquantity_factory\u001b[38;5;241m.\u001b[39mzeros(\n",
      "\u001b[1;32m   2168\u001b[0m     [Z_INTERFACE_DIM],\n",
      "\u001b[1;32m   2169\u001b[0m     \u001b[38;5;124m\"\u001b[39m\u001b[38;5;124m\"\u001b[39m,\n",
      "\u001b[1;32m   2170\u001b[0m     dtype\u001b[38;5;241m=\u001b[39mFloat,\n",
      "\u001b[1;32m   2171\u001b[0m )\n",
      "\u001b[0;32m-> 2172\u001b[0m pressure_coefficients \u001b[38;5;241m=\u001b[39m \u001b[43meta\u001b[49m\u001b[38;5;241;43m.\u001b[39;49m\u001b[43mset_hybrid_pressure_coefficients\u001b[49m\u001b[43m(\u001b[49m\n",
      "\u001b[1;32m   2173\u001b[0m \u001b[43m    \u001b[49m\u001b[38;5;28;43mself\u001b[39;49m\u001b[38;5;241;43m.\u001b[39;49m\u001b[43m_npz\u001b[49m\u001b[43m,\u001b[49m\u001b[43m \u001b[49m\u001b[43meta_file\u001b[49m\n",
      "\u001b[1;32m   2174\u001b[0m \u001b[43m\u001b[49m\u001b[43m)\u001b[49m\n",
      "\u001b[1;32m   2175\u001b[0m ks \u001b[38;5;241m=\u001b[39m pressure_coefficients\u001b[38;5;241m.\u001b[39mks\n",
      "\u001b[1;32m   2176\u001b[0m ptop \u001b[38;5;241m=\u001b[39m pressure_coefficients\u001b[38;5;241m.\u001b[39mptop\n",
      "\n",
      "File \u001b[0;32m/pace/NDSL/ndsl/grid/eta.py:60\u001b[0m, in \u001b[0;36mset_hybrid_pressure_coefficients\u001b[0;34m(km, eta_file)\u001b[0m\n",
      "\u001b[1;32m     58\u001b[0m \u001b[38;5;66;03m# check size of ak and bk array is km+1\u001b[39;00m\n",
      "\u001b[1;32m     59\u001b[0m \u001b[38;5;28;01mif\u001b[39;00m ak\u001b[38;5;241m.\u001b[39msize \u001b[38;5;241m-\u001b[39m \u001b[38;5;241m1\u001b[39m \u001b[38;5;241m!=\u001b[39m km:\n",
      "\u001b[0;32m---> 60\u001b[0m     \u001b[38;5;28;01mraise\u001b[39;00m \u001b[38;5;167;01mValueError\u001b[39;00m(\u001b[38;5;124mf\u001b[39m\u001b[38;5;124m\"\u001b[39m\u001b[38;5;124msize of ak array is not equal to km=\u001b[39m\u001b[38;5;132;01m{\u001b[39;00mkm\u001b[38;5;132;01m}\u001b[39;00m\u001b[38;5;124m\"\u001b[39m)\n",
      "\u001b[1;32m     61\u001b[0m \u001b[38;5;28;01mif\u001b[39;00m bk\u001b[38;5;241m.\u001b[39msize \u001b[38;5;241m-\u001b[39m \u001b[38;5;241m1\u001b[39m \u001b[38;5;241m!=\u001b[39m km:\n",
      "\u001b[1;32m     62\u001b[0m     \u001b[38;5;28;01mraise\u001b[39;00m \u001b[38;5;167;01mValueError\u001b[39;00m(\u001b[38;5;124mf\u001b[39m\u001b[38;5;124m\"\u001b[39m\u001b[38;5;124msize of bk array is not equal to km=\u001b[39m\u001b[38;5;132;01m{\u001b[39;00mkm\u001b[38;5;132;01m}\u001b[39;00m\u001b[38;5;124m\"\u001b[39m)\n",
      "\n",
      "\u001b[0;31mValueError\u001b[0m: size of ak array is not equal to km=1\n",
      "[4:execute]\n",
      "\u001b[0;31m---------------------------------------------------------------------------\u001b[0m\n",
      "\u001b[0;31mValueError\u001b[0m                                Traceback (most recent call last)\n",
      "Cell \u001b[0;32mIn [17], line 14\u001b[0m\n",
      "\u001b[1;32m     10\u001b[0m namelist_dict \u001b[38;5;241m=\u001b[39m func\u001b[38;5;241m.\u001b[39mstore_namelist_variables(\u001b[38;5;28mlocals\u001b[39m())\n",
      "\u001b[1;32m     11\u001b[0m dimensions \u001b[38;5;241m=\u001b[39m func\u001b[38;5;241m.\u001b[39mdefine_dimensions(namelist_dict)\n",
      "\u001b[0;32m---> 14\u001b[0m domain_configuration \u001b[38;5;241m=\u001b[39m \u001b[43mfunc\u001b[49m\u001b[38;5;241;43m.\u001b[39;49m\u001b[43mconfigure_domain\u001b[49m\u001b[43m(\u001b[49m\u001b[43mmpi_comm\u001b[49m\u001b[43m,\u001b[49m\u001b[43m \u001b[49m\u001b[43mdimensions\u001b[49m\u001b[43m,\u001b[49m\u001b[43m \u001b[49m\u001b[43msingle_layer\u001b[49m\u001b[38;5;241;43m=\u001b[39;49m\u001b[43msingle_layer\u001b[49m\u001b[43m)\u001b[49m\n",
      "\u001b[1;32m     16\u001b[0m initial_state \u001b[38;5;241m=\u001b[39m func\u001b[38;5;241m.\u001b[39mcreate_initial_state_advection(\n",
      "\u001b[1;32m     17\u001b[0m     domain_configuration[\u001b[38;5;124m\"\u001b[39m\u001b[38;5;124mmetric_terms\u001b[39m\u001b[38;5;124m\"\u001b[39m], dimensions, tracer_center, test_case\n",
      "\u001b[1;32m     18\u001b[0m )\n",
      "\u001b[1;32m     20\u001b[0m stencil_configuration \u001b[38;5;241m=\u001b[39m func\u001b[38;5;241m.\u001b[39mconfigure_stencil(domain_configuration, backend\u001b[38;5;241m=\u001b[39mbackend)\n",
      "\n",
      "File \u001b[0;32m/pace/examples/notebooks/functions.py:269\u001b[0m, in \u001b[0;36mconfigure_domain\u001b[0;34m(mpi_comm, dimensions, single_layer, backend)\u001b[0m\n",
      "\u001b[1;32m    256\u001b[0m sizer \u001b[38;5;241m=\u001b[39m SubtileGridSizer\u001b[38;5;241m.\u001b[39mfrom_tile_params(\n",
      "\u001b[1;32m    257\u001b[0m     nx_tile\u001b[38;5;241m=\u001b[39mdimensions[\u001b[38;5;124m\"\u001b[39m\u001b[38;5;124mnx\u001b[39m\u001b[38;5;124m\"\u001b[39m],\n",
      "\u001b[1;32m    258\u001b[0m     ny_tile\u001b[38;5;241m=\u001b[39mdimensions[\u001b[38;5;124m\"\u001b[39m\u001b[38;5;124mny\u001b[39m\u001b[38;5;124m\"\u001b[39m],\n",
      "\u001b[0;32m   (...)\u001b[0m\n",
      "\u001b[1;32m    264\u001b[0m     tile_rank\u001b[38;5;241m=\u001b[39mcommunicator\u001b[38;5;241m.\u001b[39mtile\u001b[38;5;241m.\u001b[39mrank,\n",
      "\u001b[1;32m    265\u001b[0m )\n",
      "\u001b[1;32m    267\u001b[0m quantity_factory \u001b[38;5;241m=\u001b[39m QuantityFactory\u001b[38;5;241m.\u001b[39mfrom_backend(sizer\u001b[38;5;241m=\u001b[39msizer, backend\u001b[38;5;241m=\u001b[39mbackend)\n",
      "\u001b[0;32m--> 269\u001b[0m metric_terms \u001b[38;5;241m=\u001b[39m \u001b[43mMetricTerms\u001b[49m\u001b[43m(\u001b[49m\n",
      "\u001b[1;32m    270\u001b[0m \u001b[43m    \u001b[49m\u001b[43mquantity_factory\u001b[49m\u001b[38;5;241;43m=\u001b[39;49m\u001b[43mquantity_factory\u001b[49m\u001b[43m,\u001b[49m\u001b[43m \u001b[49m\u001b[43mcommunicator\u001b[49m\u001b[38;5;241;43m=\u001b[39;49m\u001b[43mcommunicator\u001b[49m\u001b[43m,\u001b[49m\u001b[43m \u001b[49m\u001b[43meta_file\u001b[49m\u001b[38;5;241;43m=\u001b[39;49m\u001b[38;5;124;43m\"\u001b[39;49m\u001b[38;5;124;43meta79.nc\u001b[39;49m\u001b[38;5;124;43m\"\u001b[39;49m\n",
      "\u001b[1;32m    271\u001b[0m \u001b[43m\u001b[49m\u001b[43m)\u001b[49m\n",
      "\u001b[1;32m    273\u001b[0m \u001b[38;5;66;03m# workaround for single layer\u001b[39;00m\n",
      "\u001b[1;32m    274\u001b[0m \u001b[38;5;28;01mif\u001b[39;00m single_layer:\n",
      "\n",
      "File \u001b[0;32m/pace/NDSL/ndsl/grid/generation.py:304\u001b[0m, in \u001b[0;36mMetricTerms.__init__\u001b[0;34m(self, quantity_factory, communicator, grid_type, dx_const, dy_const, deglat, extdgrid, eta_file)\u001b[0m\n",
      "\u001b[1;32m    297\u001b[0m \u001b[38;5;28mself\u001b[39m\u001b[38;5;241m.\u001b[39m_area \u001b[38;5;241m=\u001b[39m \u001b[38;5;28;01mNone\u001b[39;00m\n",
      "\u001b[1;32m    298\u001b[0m \u001b[38;5;28mself\u001b[39m\u001b[38;5;241m.\u001b[39m_area_c \u001b[38;5;241m=\u001b[39m \u001b[38;5;28;01mNone\u001b[39;00m\n",
      "\u001b[1;32m    299\u001b[0m (\n",
      "\u001b[1;32m    300\u001b[0m     \u001b[38;5;28mself\u001b[39m\u001b[38;5;241m.\u001b[39m_ks,\n",
      "\u001b[1;32m    301\u001b[0m     \u001b[38;5;28mself\u001b[39m\u001b[38;5;241m.\u001b[39m_ptop,\n",
      "\u001b[1;32m    302\u001b[0m     \u001b[38;5;28mself\u001b[39m\u001b[38;5;241m.\u001b[39m_ak,\n",
      "\u001b[1;32m    303\u001b[0m     \u001b[38;5;28mself\u001b[39m\u001b[38;5;241m.\u001b[39m_bk,\n",
      "\u001b[0;32m--> 304\u001b[0m ) \u001b[38;5;241m=\u001b[39m \u001b[38;5;28;43mself\u001b[39;49m\u001b[38;5;241;43m.\u001b[39;49m\u001b[43m_set_hybrid_pressure_coefficients\u001b[49m\u001b[43m(\u001b[49m\u001b[43meta_file\u001b[49m\u001b[43m)\u001b[49m\n",
      "\u001b[1;32m    305\u001b[0m \u001b[38;5;28mself\u001b[39m\u001b[38;5;241m.\u001b[39m_ec1 \u001b[38;5;241m=\u001b[39m \u001b[38;5;28;01mNone\u001b[39;00m\n",
      "\u001b[1;32m    306\u001b[0m \u001b[38;5;28mself\u001b[39m\u001b[38;5;241m.\u001b[39m_ec2 \u001b[38;5;241m=\u001b[39m \u001b[38;5;28;01mNone\u001b[39;00m\n",
      "\n",
      "File \u001b[0;32m/pace/NDSL/ndsl/grid/generation.py:2172\u001b[0m, in \u001b[0;36mMetricTerms._set_hybrid_pressure_coefficients\u001b[0;34m(self, eta_file)\u001b[0m\n",
      "\u001b[1;32m   2162\u001b[0m ak \u001b[38;5;241m=\u001b[39m \u001b[38;5;28mself\u001b[39m\u001b[38;5;241m.\u001b[39mquantity_factory\u001b[38;5;241m.\u001b[39mzeros(\n",
      "\u001b[1;32m   2163\u001b[0m     [Z_INTERFACE_DIM],\n",
      "\u001b[1;32m   2164\u001b[0m     \u001b[38;5;124m\"\u001b[39m\u001b[38;5;124mPa\u001b[39m\u001b[38;5;124m\"\u001b[39m,\n",
      "\u001b[1;32m   2165\u001b[0m     dtype\u001b[38;5;241m=\u001b[39mFloat,\n",
      "\u001b[1;32m   2166\u001b[0m )\n",
      "\u001b[1;32m   2167\u001b[0m bk \u001b[38;5;241m=\u001b[39m \u001b[38;5;28mself\u001b[39m\u001b[38;5;241m.\u001b[39mquantity_factory\u001b[38;5;241m.\u001b[39mzeros(\n",
      "\u001b[1;32m   2168\u001b[0m     [Z_INTERFACE_DIM],\n",
      "\u001b[1;32m   2169\u001b[0m     \u001b[38;5;124m\"\u001b[39m\u001b[38;5;124m\"\u001b[39m,\n",
      "\u001b[1;32m   2170\u001b[0m     dtype\u001b[38;5;241m=\u001b[39mFloat,\n",
      "\u001b[1;32m   2171\u001b[0m )\n",
      "\u001b[0;32m-> 2172\u001b[0m pressure_coefficients \u001b[38;5;241m=\u001b[39m \u001b[43meta\u001b[49m\u001b[38;5;241;43m.\u001b[39;49m\u001b[43mset_hybrid_pressure_coefficients\u001b[49m\u001b[43m(\u001b[49m\n",
      "\u001b[1;32m   2173\u001b[0m \u001b[43m    \u001b[49m\u001b[38;5;28;43mself\u001b[39;49m\u001b[38;5;241;43m.\u001b[39;49m\u001b[43m_npz\u001b[49m\u001b[43m,\u001b[49m\u001b[43m \u001b[49m\u001b[43meta_file\u001b[49m\n",
      "\u001b[1;32m   2174\u001b[0m \u001b[43m\u001b[49m\u001b[43m)\u001b[49m\n",
      "\u001b[1;32m   2175\u001b[0m ks \u001b[38;5;241m=\u001b[39m pressure_coefficients\u001b[38;5;241m.\u001b[39mks\n",
      "\u001b[1;32m   2176\u001b[0m ptop \u001b[38;5;241m=\u001b[39m pressure_coefficients\u001b[38;5;241m.\u001b[39mptop\n",
      "\n",
      "File \u001b[0;32m/pace/NDSL/ndsl/grid/eta.py:60\u001b[0m, in \u001b[0;36mset_hybrid_pressure_coefficients\u001b[0;34m(km, eta_file)\u001b[0m\n",
      "\u001b[1;32m     58\u001b[0m \u001b[38;5;66;03m# check size of ak and bk array is km+1\u001b[39;00m\n",
      "\u001b[1;32m     59\u001b[0m \u001b[38;5;28;01mif\u001b[39;00m ak\u001b[38;5;241m.\u001b[39msize \u001b[38;5;241m-\u001b[39m \u001b[38;5;241m1\u001b[39m \u001b[38;5;241m!=\u001b[39m km:\n",
      "\u001b[0;32m---> 60\u001b[0m     \u001b[38;5;28;01mraise\u001b[39;00m \u001b[38;5;167;01mValueError\u001b[39;00m(\u001b[38;5;124mf\u001b[39m\u001b[38;5;124m\"\u001b[39m\u001b[38;5;124msize of ak array is not equal to km=\u001b[39m\u001b[38;5;132;01m{\u001b[39;00mkm\u001b[38;5;132;01m}\u001b[39;00m\u001b[38;5;124m\"\u001b[39m)\n",
      "\u001b[1;32m     61\u001b[0m \u001b[38;5;28;01mif\u001b[39;00m bk\u001b[38;5;241m.\u001b[39msize \u001b[38;5;241m-\u001b[39m \u001b[38;5;241m1\u001b[39m \u001b[38;5;241m!=\u001b[39m km:\n",
      "\u001b[1;32m     62\u001b[0m     \u001b[38;5;28;01mraise\u001b[39;00m \u001b[38;5;167;01mValueError\u001b[39;00m(\u001b[38;5;124mf\u001b[39m\u001b[38;5;124m\"\u001b[39m\u001b[38;5;124msize of bk array is not equal to km=\u001b[39m\u001b[38;5;132;01m{\u001b[39;00mkm\u001b[38;5;132;01m}\u001b[39;00m\u001b[38;5;124m\"\u001b[39m)\n",
      "\n",
      "\u001b[0;31mValueError\u001b[0m: size of ak array is not equal to km=1\n",
      "[5:execute]\n",
      "\u001b[0;31m---------------------------------------------------------------------------\u001b[0m\n",
      "\u001b[0;31mValueError\u001b[0m                                Traceback (most recent call last)\n",
      "Cell \u001b[0;32mIn [17], line 14\u001b[0m\n",
      "\u001b[1;32m     10\u001b[0m namelist_dict \u001b[38;5;241m=\u001b[39m func\u001b[38;5;241m.\u001b[39mstore_namelist_variables(\u001b[38;5;28mlocals\u001b[39m())\n",
      "\u001b[1;32m     11\u001b[0m dimensions \u001b[38;5;241m=\u001b[39m func\u001b[38;5;241m.\u001b[39mdefine_dimensions(namelist_dict)\n",
      "\u001b[0;32m---> 14\u001b[0m domain_configuration \u001b[38;5;241m=\u001b[39m \u001b[43mfunc\u001b[49m\u001b[38;5;241;43m.\u001b[39;49m\u001b[43mconfigure_domain\u001b[49m\u001b[43m(\u001b[49m\u001b[43mmpi_comm\u001b[49m\u001b[43m,\u001b[49m\u001b[43m \u001b[49m\u001b[43mdimensions\u001b[49m\u001b[43m,\u001b[49m\u001b[43m \u001b[49m\u001b[43msingle_layer\u001b[49m\u001b[38;5;241;43m=\u001b[39;49m\u001b[43msingle_layer\u001b[49m\u001b[43m)\u001b[49m\n",
      "\u001b[1;32m     16\u001b[0m initial_state \u001b[38;5;241m=\u001b[39m func\u001b[38;5;241m.\u001b[39mcreate_initial_state_advection(\n",
      "\u001b[1;32m     17\u001b[0m     domain_configuration[\u001b[38;5;124m\"\u001b[39m\u001b[38;5;124mmetric_terms\u001b[39m\u001b[38;5;124m\"\u001b[39m], dimensions, tracer_center, test_case\n",
      "\u001b[1;32m     18\u001b[0m )\n",
      "\u001b[1;32m     20\u001b[0m stencil_configuration \u001b[38;5;241m=\u001b[39m func\u001b[38;5;241m.\u001b[39mconfigure_stencil(domain_configuration, backend\u001b[38;5;241m=\u001b[39mbackend)\n",
      "\n",
      "File \u001b[0;32m/pace/examples/notebooks/functions.py:269\u001b[0m, in \u001b[0;36mconfigure_domain\u001b[0;34m(mpi_comm, dimensions, single_layer, backend)\u001b[0m\n",
      "\u001b[1;32m    256\u001b[0m sizer \u001b[38;5;241m=\u001b[39m SubtileGridSizer\u001b[38;5;241m.\u001b[39mfrom_tile_params(\n",
      "\u001b[1;32m    257\u001b[0m     nx_tile\u001b[38;5;241m=\u001b[39mdimensions[\u001b[38;5;124m\"\u001b[39m\u001b[38;5;124mnx\u001b[39m\u001b[38;5;124m\"\u001b[39m],\n",
      "\u001b[1;32m    258\u001b[0m     ny_tile\u001b[38;5;241m=\u001b[39mdimensions[\u001b[38;5;124m\"\u001b[39m\u001b[38;5;124mny\u001b[39m\u001b[38;5;124m\"\u001b[39m],\n",
      "\u001b[0;32m   (...)\u001b[0m\n",
      "\u001b[1;32m    264\u001b[0m     tile_rank\u001b[38;5;241m=\u001b[39mcommunicator\u001b[38;5;241m.\u001b[39mtile\u001b[38;5;241m.\u001b[39mrank,\n",
      "\u001b[1;32m    265\u001b[0m )\n",
      "\u001b[1;32m    267\u001b[0m quantity_factory \u001b[38;5;241m=\u001b[39m QuantityFactory\u001b[38;5;241m.\u001b[39mfrom_backend(sizer\u001b[38;5;241m=\u001b[39msizer, backend\u001b[38;5;241m=\u001b[39mbackend)\n",
      "\u001b[0;32m--> 269\u001b[0m metric_terms \u001b[38;5;241m=\u001b[39m \u001b[43mMetricTerms\u001b[49m\u001b[43m(\u001b[49m\n",
      "\u001b[1;32m    270\u001b[0m \u001b[43m    \u001b[49m\u001b[43mquantity_factory\u001b[49m\u001b[38;5;241;43m=\u001b[39;49m\u001b[43mquantity_factory\u001b[49m\u001b[43m,\u001b[49m\u001b[43m \u001b[49m\u001b[43mcommunicator\u001b[49m\u001b[38;5;241;43m=\u001b[39;49m\u001b[43mcommunicator\u001b[49m\u001b[43m,\u001b[49m\u001b[43m \u001b[49m\u001b[43meta_file\u001b[49m\u001b[38;5;241;43m=\u001b[39;49m\u001b[38;5;124;43m\"\u001b[39;49m\u001b[38;5;124;43meta79.nc\u001b[39;49m\u001b[38;5;124;43m\"\u001b[39;49m\n",
      "\u001b[1;32m    271\u001b[0m \u001b[43m\u001b[49m\u001b[43m)\u001b[49m\n",
      "\u001b[1;32m    273\u001b[0m \u001b[38;5;66;03m# workaround for single layer\u001b[39;00m\n",
      "\u001b[1;32m    274\u001b[0m \u001b[38;5;28;01mif\u001b[39;00m single_layer:\n",
      "\n",
      "File \u001b[0;32m/pace/NDSL/ndsl/grid/generation.py:304\u001b[0m, in \u001b[0;36mMetricTerms.__init__\u001b[0;34m(self, quantity_factory, communicator, grid_type, dx_const, dy_const, deglat, extdgrid, eta_file)\u001b[0m\n",
      "\u001b[1;32m    297\u001b[0m \u001b[38;5;28mself\u001b[39m\u001b[38;5;241m.\u001b[39m_area \u001b[38;5;241m=\u001b[39m \u001b[38;5;28;01mNone\u001b[39;00m\n",
      "\u001b[1;32m    298\u001b[0m \u001b[38;5;28mself\u001b[39m\u001b[38;5;241m.\u001b[39m_area_c \u001b[38;5;241m=\u001b[39m \u001b[38;5;28;01mNone\u001b[39;00m\n",
      "\u001b[1;32m    299\u001b[0m (\n",
      "\u001b[1;32m    300\u001b[0m     \u001b[38;5;28mself\u001b[39m\u001b[38;5;241m.\u001b[39m_ks,\n",
      "\u001b[1;32m    301\u001b[0m     \u001b[38;5;28mself\u001b[39m\u001b[38;5;241m.\u001b[39m_ptop,\n",
      "\u001b[1;32m    302\u001b[0m     \u001b[38;5;28mself\u001b[39m\u001b[38;5;241m.\u001b[39m_ak,\n",
      "\u001b[1;32m    303\u001b[0m     \u001b[38;5;28mself\u001b[39m\u001b[38;5;241m.\u001b[39m_bk,\n",
      "\u001b[0;32m--> 304\u001b[0m ) \u001b[38;5;241m=\u001b[39m \u001b[38;5;28;43mself\u001b[39;49m\u001b[38;5;241;43m.\u001b[39;49m\u001b[43m_set_hybrid_pressure_coefficients\u001b[49m\u001b[43m(\u001b[49m\u001b[43meta_file\u001b[49m\u001b[43m)\u001b[49m\n",
      "\u001b[1;32m    305\u001b[0m \u001b[38;5;28mself\u001b[39m\u001b[38;5;241m.\u001b[39m_ec1 \u001b[38;5;241m=\u001b[39m \u001b[38;5;28;01mNone\u001b[39;00m\n",
      "\u001b[1;32m    306\u001b[0m \u001b[38;5;28mself\u001b[39m\u001b[38;5;241m.\u001b[39m_ec2 \u001b[38;5;241m=\u001b[39m \u001b[38;5;28;01mNone\u001b[39;00m\n",
      "\n",
      "File \u001b[0;32m/pace/NDSL/ndsl/grid/generation.py:2172\u001b[0m, in \u001b[0;36mMetricTerms._set_hybrid_pressure_coefficients\u001b[0;34m(self, eta_file)\u001b[0m\n",
      "\u001b[1;32m   2162\u001b[0m ak \u001b[38;5;241m=\u001b[39m \u001b[38;5;28mself\u001b[39m\u001b[38;5;241m.\u001b[39mquantity_factory\u001b[38;5;241m.\u001b[39mzeros(\n",
      "\u001b[1;32m   2163\u001b[0m     [Z_INTERFACE_DIM],\n",
      "\u001b[1;32m   2164\u001b[0m     \u001b[38;5;124m\"\u001b[39m\u001b[38;5;124mPa\u001b[39m\u001b[38;5;124m\"\u001b[39m,\n",
      "\u001b[1;32m   2165\u001b[0m     dtype\u001b[38;5;241m=\u001b[39mFloat,\n",
      "\u001b[1;32m   2166\u001b[0m )\n",
      "\u001b[1;32m   2167\u001b[0m bk \u001b[38;5;241m=\u001b[39m \u001b[38;5;28mself\u001b[39m\u001b[38;5;241m.\u001b[39mquantity_factory\u001b[38;5;241m.\u001b[39mzeros(\n",
      "\u001b[1;32m   2168\u001b[0m     [Z_INTERFACE_DIM],\n",
      "\u001b[1;32m   2169\u001b[0m     \u001b[38;5;124m\"\u001b[39m\u001b[38;5;124m\"\u001b[39m,\n",
      "\u001b[1;32m   2170\u001b[0m     dtype\u001b[38;5;241m=\u001b[39mFloat,\n",
      "\u001b[1;32m   2171\u001b[0m )\n",
      "\u001b[0;32m-> 2172\u001b[0m pressure_coefficients \u001b[38;5;241m=\u001b[39m \u001b[43meta\u001b[49m\u001b[38;5;241;43m.\u001b[39;49m\u001b[43mset_hybrid_pressure_coefficients\u001b[49m\u001b[43m(\u001b[49m\n",
      "\u001b[1;32m   2173\u001b[0m \u001b[43m    \u001b[49m\u001b[38;5;28;43mself\u001b[39;49m\u001b[38;5;241;43m.\u001b[39;49m\u001b[43m_npz\u001b[49m\u001b[43m,\u001b[49m\u001b[43m \u001b[49m\u001b[43meta_file\u001b[49m\n",
      "\u001b[1;32m   2174\u001b[0m \u001b[43m\u001b[49m\u001b[43m)\u001b[49m\n",
      "\u001b[1;32m   2175\u001b[0m ks \u001b[38;5;241m=\u001b[39m pressure_coefficients\u001b[38;5;241m.\u001b[39mks\n",
      "\u001b[1;32m   2176\u001b[0m ptop \u001b[38;5;241m=\u001b[39m pressure_coefficients\u001b[38;5;241m.\u001b[39mptop\n",
      "\n",
      "File \u001b[0;32m/pace/NDSL/ndsl/grid/eta.py:60\u001b[0m, in \u001b[0;36mset_hybrid_pressure_coefficients\u001b[0;34m(km, eta_file)\u001b[0m\n",
      "\u001b[1;32m     58\u001b[0m \u001b[38;5;66;03m# check size of ak and bk array is km+1\u001b[39;00m\n",
      "\u001b[1;32m     59\u001b[0m \u001b[38;5;28;01mif\u001b[39;00m ak\u001b[38;5;241m.\u001b[39msize \u001b[38;5;241m-\u001b[39m \u001b[38;5;241m1\u001b[39m \u001b[38;5;241m!=\u001b[39m km:\n",
      "\u001b[0;32m---> 60\u001b[0m     \u001b[38;5;28;01mraise\u001b[39;00m \u001b[38;5;167;01mValueError\u001b[39;00m(\u001b[38;5;124mf\u001b[39m\u001b[38;5;124m\"\u001b[39m\u001b[38;5;124msize of ak array is not equal to km=\u001b[39m\u001b[38;5;132;01m{\u001b[39;00mkm\u001b[38;5;132;01m}\u001b[39;00m\u001b[38;5;124m\"\u001b[39m)\n",
      "\u001b[1;32m     61\u001b[0m \u001b[38;5;28;01mif\u001b[39;00m bk\u001b[38;5;241m.\u001b[39msize \u001b[38;5;241m-\u001b[39m \u001b[38;5;241m1\u001b[39m \u001b[38;5;241m!=\u001b[39m km:\n",
      "\u001b[1;32m     62\u001b[0m     \u001b[38;5;28;01mraise\u001b[39;00m \u001b[38;5;167;01mValueError\u001b[39;00m(\u001b[38;5;124mf\u001b[39m\u001b[38;5;124m\"\u001b[39m\u001b[38;5;124msize of bk array is not equal to km=\u001b[39m\u001b[38;5;132;01m{\u001b[39;00mkm\u001b[38;5;132;01m}\u001b[39;00m\u001b[38;5;124m\"\u001b[39m)\n",
      "\n",
      "\u001b[0;31mValueError\u001b[0m: size of ak array is not equal to km=1\n",
      "[3:execute]\n",
      "\u001b[0;31m---------------------------------------------------------------------------\u001b[0m\n",
      "\u001b[0;31mValueError\u001b[0m                                Traceback (most recent call last)\n",
      "Cell \u001b[0;32mIn [17], line 14\u001b[0m\n",
      "\u001b[1;32m     10\u001b[0m namelist_dict \u001b[38;5;241m=\u001b[39m func\u001b[38;5;241m.\u001b[39mstore_namelist_variables(\u001b[38;5;28mlocals\u001b[39m())\n",
      "\u001b[1;32m     11\u001b[0m dimensions \u001b[38;5;241m=\u001b[39m func\u001b[38;5;241m.\u001b[39mdefine_dimensions(namelist_dict)\n",
      "\u001b[0;32m---> 14\u001b[0m domain_configuration \u001b[38;5;241m=\u001b[39m \u001b[43mfunc\u001b[49m\u001b[38;5;241;43m.\u001b[39;49m\u001b[43mconfigure_domain\u001b[49m\u001b[43m(\u001b[49m\u001b[43mmpi_comm\u001b[49m\u001b[43m,\u001b[49m\u001b[43m \u001b[49m\u001b[43mdimensions\u001b[49m\u001b[43m,\u001b[49m\u001b[43m \u001b[49m\u001b[43msingle_layer\u001b[49m\u001b[38;5;241;43m=\u001b[39;49m\u001b[43msingle_layer\u001b[49m\u001b[43m)\u001b[49m\n",
      "\u001b[1;32m     16\u001b[0m initial_state \u001b[38;5;241m=\u001b[39m func\u001b[38;5;241m.\u001b[39mcreate_initial_state_advection(\n",
      "\u001b[1;32m     17\u001b[0m     domain_configuration[\u001b[38;5;124m\"\u001b[39m\u001b[38;5;124mmetric_terms\u001b[39m\u001b[38;5;124m\"\u001b[39m], dimensions, tracer_center, test_case\n",
      "\u001b[1;32m     18\u001b[0m )\n",
      "\u001b[1;32m     20\u001b[0m stencil_configuration \u001b[38;5;241m=\u001b[39m func\u001b[38;5;241m.\u001b[39mconfigure_stencil(domain_configuration, backend\u001b[38;5;241m=\u001b[39mbackend)\n",
      "\n",
      "File \u001b[0;32m/pace/examples/notebooks/functions.py:269\u001b[0m, in \u001b[0;36mconfigure_domain\u001b[0;34m(mpi_comm, dimensions, single_layer, backend)\u001b[0m\n",
      "\u001b[1;32m    256\u001b[0m sizer \u001b[38;5;241m=\u001b[39m SubtileGridSizer\u001b[38;5;241m.\u001b[39mfrom_tile_params(\n",
      "\u001b[1;32m    257\u001b[0m     nx_tile\u001b[38;5;241m=\u001b[39mdimensions[\u001b[38;5;124m\"\u001b[39m\u001b[38;5;124mnx\u001b[39m\u001b[38;5;124m\"\u001b[39m],\n",
      "\u001b[1;32m    258\u001b[0m     ny_tile\u001b[38;5;241m=\u001b[39mdimensions[\u001b[38;5;124m\"\u001b[39m\u001b[38;5;124mny\u001b[39m\u001b[38;5;124m\"\u001b[39m],\n",
      "\u001b[0;32m   (...)\u001b[0m\n",
      "\u001b[1;32m    264\u001b[0m     tile_rank\u001b[38;5;241m=\u001b[39mcommunicator\u001b[38;5;241m.\u001b[39mtile\u001b[38;5;241m.\u001b[39mrank,\n",
      "\u001b[1;32m    265\u001b[0m )\n",
      "\u001b[1;32m    267\u001b[0m quantity_factory \u001b[38;5;241m=\u001b[39m QuantityFactory\u001b[38;5;241m.\u001b[39mfrom_backend(sizer\u001b[38;5;241m=\u001b[39msizer, backend\u001b[38;5;241m=\u001b[39mbackend)\n",
      "\u001b[0;32m--> 269\u001b[0m metric_terms \u001b[38;5;241m=\u001b[39m \u001b[43mMetricTerms\u001b[49m\u001b[43m(\u001b[49m\n",
      "\u001b[1;32m    270\u001b[0m \u001b[43m    \u001b[49m\u001b[43mquantity_factory\u001b[49m\u001b[38;5;241;43m=\u001b[39;49m\u001b[43mquantity_factory\u001b[49m\u001b[43m,\u001b[49m\u001b[43m \u001b[49m\u001b[43mcommunicator\u001b[49m\u001b[38;5;241;43m=\u001b[39;49m\u001b[43mcommunicator\u001b[49m\u001b[43m,\u001b[49m\u001b[43m \u001b[49m\u001b[43meta_file\u001b[49m\u001b[38;5;241;43m=\u001b[39;49m\u001b[38;5;124;43m\"\u001b[39;49m\u001b[38;5;124;43meta79.nc\u001b[39;49m\u001b[38;5;124;43m\"\u001b[39;49m\n",
      "\u001b[1;32m    271\u001b[0m \u001b[43m\u001b[49m\u001b[43m)\u001b[49m\n",
      "\u001b[1;32m    273\u001b[0m \u001b[38;5;66;03m# workaround for single layer\u001b[39;00m\n",
      "\u001b[1;32m    274\u001b[0m \u001b[38;5;28;01mif\u001b[39;00m single_layer:\n",
      "\n",
      "File \u001b[0;32m/pace/NDSL/ndsl/grid/generation.py:304\u001b[0m, in \u001b[0;36mMetricTerms.__init__\u001b[0;34m(self, quantity_factory, communicator, grid_type, dx_const, dy_const, deglat, extdgrid, eta_file)\u001b[0m\n",
      "\u001b[1;32m    297\u001b[0m \u001b[38;5;28mself\u001b[39m\u001b[38;5;241m.\u001b[39m_area \u001b[38;5;241m=\u001b[39m \u001b[38;5;28;01mNone\u001b[39;00m\n",
      "\u001b[1;32m    298\u001b[0m \u001b[38;5;28mself\u001b[39m\u001b[38;5;241m.\u001b[39m_area_c \u001b[38;5;241m=\u001b[39m \u001b[38;5;28;01mNone\u001b[39;00m\n",
      "\u001b[1;32m    299\u001b[0m (\n",
      "\u001b[1;32m    300\u001b[0m     \u001b[38;5;28mself\u001b[39m\u001b[38;5;241m.\u001b[39m_ks,\n",
      "\u001b[1;32m    301\u001b[0m     \u001b[38;5;28mself\u001b[39m\u001b[38;5;241m.\u001b[39m_ptop,\n",
      "\u001b[1;32m    302\u001b[0m     \u001b[38;5;28mself\u001b[39m\u001b[38;5;241m.\u001b[39m_ak,\n",
      "\u001b[1;32m    303\u001b[0m     \u001b[38;5;28mself\u001b[39m\u001b[38;5;241m.\u001b[39m_bk,\n",
      "\u001b[0;32m--> 304\u001b[0m ) \u001b[38;5;241m=\u001b[39m \u001b[38;5;28;43mself\u001b[39;49m\u001b[38;5;241;43m.\u001b[39;49m\u001b[43m_set_hybrid_pressure_coefficients\u001b[49m\u001b[43m(\u001b[49m\u001b[43meta_file\u001b[49m\u001b[43m)\u001b[49m\n",
      "\u001b[1;32m    305\u001b[0m \u001b[38;5;28mself\u001b[39m\u001b[38;5;241m.\u001b[39m_ec1 \u001b[38;5;241m=\u001b[39m \u001b[38;5;28;01mNone\u001b[39;00m\n",
      "\u001b[1;32m    306\u001b[0m \u001b[38;5;28mself\u001b[39m\u001b[38;5;241m.\u001b[39m_ec2 \u001b[38;5;241m=\u001b[39m \u001b[38;5;28;01mNone\u001b[39;00m\n",
      "\n",
      "File \u001b[0;32m/pace/NDSL/ndsl/grid/generation.py:2172\u001b[0m, in \u001b[0;36mMetricTerms._set_hybrid_pressure_coefficients\u001b[0;34m(self, eta_file)\u001b[0m\n",
      "\u001b[1;32m   2162\u001b[0m ak \u001b[38;5;241m=\u001b[39m \u001b[38;5;28mself\u001b[39m\u001b[38;5;241m.\u001b[39mquantity_factory\u001b[38;5;241m.\u001b[39mzeros(\n",
      "\u001b[1;32m   2163\u001b[0m     [Z_INTERFACE_DIM],\n",
      "\u001b[1;32m   2164\u001b[0m     \u001b[38;5;124m\"\u001b[39m\u001b[38;5;124mPa\u001b[39m\u001b[38;5;124m\"\u001b[39m,\n",
      "\u001b[1;32m   2165\u001b[0m     dtype\u001b[38;5;241m=\u001b[39mFloat,\n",
      "\u001b[1;32m   2166\u001b[0m )\n",
      "\u001b[1;32m   2167\u001b[0m bk \u001b[38;5;241m=\u001b[39m \u001b[38;5;28mself\u001b[39m\u001b[38;5;241m.\u001b[39mquantity_factory\u001b[38;5;241m.\u001b[39mzeros(\n",
      "\u001b[1;32m   2168\u001b[0m     [Z_INTERFACE_DIM],\n",
      "\u001b[1;32m   2169\u001b[0m     \u001b[38;5;124m\"\u001b[39m\u001b[38;5;124m\"\u001b[39m,\n",
      "\u001b[1;32m   2170\u001b[0m     dtype\u001b[38;5;241m=\u001b[39mFloat,\n",
      "\u001b[1;32m   2171\u001b[0m )\n",
      "\u001b[0;32m-> 2172\u001b[0m pressure_coefficients \u001b[38;5;241m=\u001b[39m \u001b[43meta\u001b[49m\u001b[38;5;241;43m.\u001b[39;49m\u001b[43mset_hybrid_pressure_coefficients\u001b[49m\u001b[43m(\u001b[49m\n",
      "\u001b[1;32m   2173\u001b[0m \u001b[43m    \u001b[49m\u001b[38;5;28;43mself\u001b[39;49m\u001b[38;5;241;43m.\u001b[39;49m\u001b[43m_npz\u001b[49m\u001b[43m,\u001b[49m\u001b[43m \u001b[49m\u001b[43meta_file\u001b[49m\n",
      "\u001b[1;32m   2174\u001b[0m \u001b[43m\u001b[49m\u001b[43m)\u001b[49m\n",
      "\u001b[1;32m   2175\u001b[0m ks \u001b[38;5;241m=\u001b[39m pressure_coefficients\u001b[38;5;241m.\u001b[39mks\n",
      "\u001b[1;32m   2176\u001b[0m ptop \u001b[38;5;241m=\u001b[39m pressure_coefficients\u001b[38;5;241m.\u001b[39mptop\n",
      "\n",
      "File \u001b[0;32m/pace/NDSL/ndsl/grid/eta.py:60\u001b[0m, in \u001b[0;36mset_hybrid_pressure_coefficients\u001b[0;34m(km, eta_file)\u001b[0m\n",
      "\u001b[1;32m     58\u001b[0m \u001b[38;5;66;03m# check size of ak and bk array is km+1\u001b[39;00m\n",
      "\u001b[1;32m     59\u001b[0m \u001b[38;5;28;01mif\u001b[39;00m ak\u001b[38;5;241m.\u001b[39msize \u001b[38;5;241m-\u001b[39m \u001b[38;5;241m1\u001b[39m \u001b[38;5;241m!=\u001b[39m km:\n",
      "\u001b[0;32m---> 60\u001b[0m     \u001b[38;5;28;01mraise\u001b[39;00m \u001b[38;5;167;01mValueError\u001b[39;00m(\u001b[38;5;124mf\u001b[39m\u001b[38;5;124m\"\u001b[39m\u001b[38;5;124msize of ak array is not equal to km=\u001b[39m\u001b[38;5;132;01m{\u001b[39;00mkm\u001b[38;5;132;01m}\u001b[39;00m\u001b[38;5;124m\"\u001b[39m)\n",
      "\u001b[1;32m     61\u001b[0m \u001b[38;5;28;01mif\u001b[39;00m bk\u001b[38;5;241m.\u001b[39msize \u001b[38;5;241m-\u001b[39m \u001b[38;5;241m1\u001b[39m \u001b[38;5;241m!=\u001b[39m km:\n",
      "\u001b[1;32m     62\u001b[0m     \u001b[38;5;28;01mraise\u001b[39;00m \u001b[38;5;167;01mValueError\u001b[39;00m(\u001b[38;5;124mf\u001b[39m\u001b[38;5;124m\"\u001b[39m\u001b[38;5;124msize of bk array is not equal to km=\u001b[39m\u001b[38;5;132;01m{\u001b[39;00mkm\u001b[38;5;132;01m}\u001b[39;00m\u001b[38;5;124m\"\u001b[39m)\n",
      "\n",
      "\u001b[0;31mValueError\u001b[0m: size of ak array is not equal to km=1\n",
      "[1:execute] ValueError: size of ak array is not equal to km=1\n",
      "[2:execute] ValueError: size of ak array is not equal to km=1\n"
     ]
    },
    {
     "ename": "AlreadyDisplayedError",
     "evalue": "6 errors",
     "output_type": "error",
     "traceback": [
      "6 errors"
     ]
    }
   ],
   "source": [
    "mpi_comm = MPI.COMM_WORLD\n",
    "mpi_rank = mpi_comm.Get_rank()\n",
    "\n",
    "nz = 1\n",
    "if nz == 1:\n",
    "    single_layer = True\n",
    "else:\n",
    "    single_layer = False\n",
    "\n",
    "namelist_dict = func.store_namelist_variables(locals())\n",
    "dimensions = func.define_dimensions(namelist_dict)\n",
    "\n",
    "\n",
    "domain_configuration = func.configure_domain(mpi_comm, dimensions, single_layer=single_layer)\n",
    "\n",
    "initial_state = func.create_initial_state_advection(\n",
    "    domain_configuration[\"metric_terms\"], dimensions, tracer_center, test_case\n",
    ")\n",
    "\n",
    "stencil_configuration = func.configure_stencil(domain_configuration, backend=backend)\n",
    "stencil_configuration[\"quantity_factory\"] = domain_configuration[\"quantity_factory\"]\n",
    "\n",
    "tracer_advection_data, tracer_advection = func.prepare_everything_for_advection(\n",
    "    stencil_configuration, initial_state, dimensions, timestep\n",
    ")\n",
    "\n",
    "tracer_advection_data_initial = cp.deepcopy(tracer_advection_data)\n",
    "\n",
    "tracer_state = [cp.deepcopy(tracer_advection_data_initial[\"tracers\"][\"tracer\"])]\n",
    "\n",
    "nSteps = 10\n",
    "for step in range(nSteps):\n",
    "    tracer_advection_data = func.run_advection_step_with_reset(\n",
    "        tracer_advection_data_initial, tracer_advection_data, tracer_advection\n",
    "    )\n",
    "\n",
    "    tracer_state.append(cp.deepcopy(tracer_advection_data[\"tracers\"][\"tracer\"]))\n"
   ]
  },
  {
   "cell_type": "code",
   "execution_count": 29,
   "id": "783a781e",
   "metadata": {},
   "outputs": [
    {
     "data": {
      "text/plain": [
       "[output:0]"
      ]
     },
     "metadata": {},
     "output_type": "display_data"
    },
    {
     "data": {
      "image/png": "[encoded data removed]",
      "text/plain": [
       "<Figure size 1600x400 with 6 Axes>"
      ]
     },
     "metadata": {
      "engine": 0
     },
     "output_type": "display_data"
    }
   ],
   "source": [
    "if mpi_rank == 0:\n",
    "    fig = plt.figure(figsize=(16, 4))\n",
    "    fig.patch.set_facecolor(\"white\")\n",
    "    ax_before = fig.add_subplot(131)\n",
    "    ax_after = fig.add_subplot(132)\n",
    "    ax_diff = fig.add_subplot(133)\n",
    "\n",
    "    f1 = ax_before.pcolormesh(\n",
    "        tracer_state[0].data[:, :, 0].T, vmin=-0, vmax=1, cmap=\"viridis\"\n",
    "    )\n",
    "    plt.colorbar(f1, ax=ax_before)\n",
    "    f2 = ax_after.pcolormesh(\n",
    "        tracer_state[-1].data[:, :, 0].T, vmin=-0, vmax=1, cmap=\"viridis\"\n",
    "    )\n",
    "    plt.colorbar(f2, ax=ax_after)\n",
    "    f3 = ax_diff.pcolormesh(\n",
    "        (tracer_state[-1].data[:, :, 0] - tracer_state[0].data[:, :, 0]).T,\n",
    "        vmin=-0.5,\n",
    "        vmax=0.5,\n",
    "        cmap=\"bwr\",\n",
    "    )\n",
    "    plt.colorbar(f3, ax=ax_diff)\n",
    "\n",
    "    ax_before.set_title(\"tracer concentration at t=0\")\n",
    "    ax_after.set_title(\"tracer concentration after %s steps\" % nSteps)\n",
    "    ax_diff.set_title(\"difference after %s steps\" % nSteps)\n",
    "    plt.show()"
   ]
  },
  {
   "cell_type": "code",
   "execution_count": null,
   "id": "6b0cc550-95f0-4b79-9916-6d5859cb8420",
   "metadata": {},
   "outputs": [],
   "source": []
  }
 ],
 "metadata": {
  "kernelspec": {
   "display_name": "Python 3 (ipykernel)",
   "language": "python",
   "name": "python3"
  },
  "language_info": {
   "codemirror_mode": {
    "name": "ipython",
    "version": 3
   },
   "file_extension": ".py",
   "mimetype": "text/x-python",
   "name": "python",
   "nbconvert_exporter": "python",
   "pygments_lexer": "ipython3",
   "version": "3.8.13"
  },
  "vscode": {
   "interpreter": {
    "hash": "5aaa1d64d2aec5fc9d71d95fe114c55e361597d915cf108c460e747a228aecec"
   }
  }
 },
 "nbformat": 4,
 "nbformat_minor": 5
}
